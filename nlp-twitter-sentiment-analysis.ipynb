{
 "cells": [
  {
   "cell_type": "code",
   "execution_count": 1,
   "id": "c9c05334",
   "metadata": {
    "_cell_guid": "b1076dfc-b9ad-4769-8c92-a6c4dae69d19",
    "_uuid": "8f2839f25d086af736a60e9eeb907d3b93b6e0e5",
    "execution": {
     "iopub.execute_input": "2024-05-10T18:35:14.411127Z",
     "iopub.status.busy": "2024-05-10T18:35:14.410341Z",
     "iopub.status.idle": "2024-05-10T18:35:15.574886Z",
     "shell.execute_reply": "2024-05-10T18:35:15.573372Z"
    },
    "papermill": {
     "duration": 1.18637,
     "end_time": "2024-05-10T18:35:15.577918",
     "exception": false,
     "start_time": "2024-05-10T18:35:14.391548",
     "status": "completed"
    },
    "tags": []
   },
   "outputs": [
    {
     "name": "stdout",
     "output_type": "stream",
     "text": [
      "/kaggle/input/twittesentimentanalysis/tweets.csv\n"
     ]
    }
   ],
   "source": [
    "# This Python 3 environment comes with many helpful analytics libraries installed\n",
    "# It is defined by the kaggle/python Docker image: https://github.com/kaggle/docker-python\n",
    "# For example, here's several helpful packages to load\n",
    "\n",
    "import numpy as np # linear algebra\n",
    "import pandas as pd # data processing, CSV file I/O (e.g. pd.read_csv)\n",
    "\n",
    "# Input data files are available in the read-only \"../input/\" directory\n",
    "# For example, running this (by clicking run or pressing Shift+Enter) will list all files under the input directory\n",
    "\n",
    "import os\n",
    "for dirname, _, filenames in os.walk('/kaggle/input'):\n",
    "    for filename in filenames:\n",
    "        print(os.path.join(dirname, filename))\n",
    "\n",
    "# You can write up to 20GB to the current directory (/kaggle/working/) that gets preserved as output when you create a version using \"Save & Run All\" \n",
    "# You can also write temporary files to /kaggle/temp/, but they won't be saved outside of the current session"
   ]
  },
  {
   "cell_type": "code",
   "execution_count": 2,
   "id": "3ba061d8",
   "metadata": {
    "execution": {
     "iopub.execute_input": "2024-05-10T18:35:15.613456Z",
     "iopub.status.busy": "2024-05-10T18:35:15.612801Z",
     "iopub.status.idle": "2024-05-10T18:35:18.253584Z",
     "shell.execute_reply": "2024-05-10T18:35:18.252326Z"
    },
    "papermill": {
     "duration": 2.662345,
     "end_time": "2024-05-10T18:35:18.257012",
     "exception": false,
     "start_time": "2024-05-10T18:35:15.594667",
     "status": "completed"
    },
    "tags": []
   },
   "outputs": [],
   "source": [
    "import numpy as np\n",
    "import pandas as pd\n",
    "import re   #pattern matching or search through\n",
    "from nltk.corpus import stopwords\n",
    "from nltk.stem.porter import PorterStemmer\n",
    "from sklearn.feature_extraction.text import TfidfVectorizer\n",
    "from sklearn.model_selection import train_test_split\n",
    "from sklearn.linear_model import LogisticRegression\n",
    "from sklearn.metrics import accuracy_score\n",
    "from sklearn.metrics import confusion_matrix\n",
    "import matplotlib.pyplot as plt\n",
    "import seaborn as sns"
   ]
  },
  {
   "cell_type": "code",
   "execution_count": 3,
   "id": "2920fe15",
   "metadata": {
    "execution": {
     "iopub.execute_input": "2024-05-10T18:35:18.291789Z",
     "iopub.status.busy": "2024-05-10T18:35:18.291332Z",
     "iopub.status.idle": "2024-05-10T18:35:34.839345Z",
     "shell.execute_reply": "2024-05-10T18:35:34.837787Z"
    },
    "papermill": {
     "duration": 16.569331,
     "end_time": "2024-05-10T18:35:34.842829",
     "exception": false,
     "start_time": "2024-05-10T18:35:18.273498",
     "status": "completed"
    },
    "tags": []
   },
   "outputs": [
    {
     "name": "stdout",
     "output_type": "stream",
     "text": [
      "Requirement already satisfied: tqdm in /opt/conda/lib/python3.10/site-packages (4.66.1)\r\n"
     ]
    }
   ],
   "source": [
    "! pip install tqdm"
   ]
  },
  {
   "cell_type": "code",
   "execution_count": 4,
   "id": "ed282e21",
   "metadata": {
    "execution": {
     "iopub.execute_input": "2024-05-10T18:35:34.877855Z",
     "iopub.status.busy": "2024-05-10T18:35:34.877398Z",
     "iopub.status.idle": "2024-05-10T18:35:34.894655Z",
     "shell.execute_reply": "2024-05-10T18:35:34.893352Z"
    },
    "papermill": {
     "duration": 0.037604,
     "end_time": "2024-05-10T18:35:34.897365",
     "exception": false,
     "start_time": "2024-05-10T18:35:34.859761",
     "status": "completed"
    },
    "tags": []
   },
   "outputs": [],
   "source": [
    "from tqdm.notebook import tqdm"
   ]
  },
  {
   "cell_type": "code",
   "execution_count": 5,
   "id": "1578a9f3",
   "metadata": {
    "execution": {
     "iopub.execute_input": "2024-05-10T18:35:34.931062Z",
     "iopub.status.busy": "2024-05-10T18:35:34.930564Z",
     "iopub.status.idle": "2024-05-10T18:35:35.012566Z",
     "shell.execute_reply": "2024-05-10T18:35:35.011366Z"
    },
    "papermill": {
     "duration": 0.102353,
     "end_time": "2024-05-10T18:35:35.015194",
     "exception": false,
     "start_time": "2024-05-10T18:35:34.912841",
     "status": "completed"
    },
    "tags": []
   },
   "outputs": [
    {
     "name": "stdout",
     "output_type": "stream",
     "text": [
      "[nltk_data] Downloading package stopwords to /usr/share/nltk_data...\n",
      "[nltk_data]   Package stopwords is already up-to-date!\n"
     ]
    },
    {
     "data": {
      "text/plain": [
       "True"
      ]
     },
     "execution_count": 5,
     "metadata": {},
     "output_type": "execute_result"
    }
   ],
   "source": [
    "import nltk\n",
    "nltk.download('stopwords')"
   ]
  },
  {
   "cell_type": "code",
   "execution_count": 6,
   "id": "d5de7daa",
   "metadata": {
    "execution": {
     "iopub.execute_input": "2024-05-10T18:35:35.049553Z",
     "iopub.status.busy": "2024-05-10T18:35:35.047926Z",
     "iopub.status.idle": "2024-05-10T18:35:35.058344Z",
     "shell.execute_reply": "2024-05-10T18:35:35.057100Z"
    },
    "papermill": {
     "duration": 0.030486,
     "end_time": "2024-05-10T18:35:35.061359",
     "exception": false,
     "start_time": "2024-05-10T18:35:35.030873",
     "status": "completed"
    },
    "tags": []
   },
   "outputs": [
    {
     "name": "stdout",
     "output_type": "stream",
     "text": [
      "['i', 'me', 'my', 'myself', 'we', 'our', 'ours', 'ourselves', 'you', \"you're\", \"you've\", \"you'll\", \"you'd\", 'your', 'yours', 'yourself', 'yourselves', 'he', 'him', 'his', 'himself', 'she', \"she's\", 'her', 'hers', 'herself', 'it', \"it's\", 'its', 'itself', 'they', 'them', 'their', 'theirs', 'themselves', 'what', 'which', 'who', 'whom', 'this', 'that', \"that'll\", 'these', 'those', 'am', 'is', 'are', 'was', 'were', 'be', 'been', 'being', 'have', 'has', 'had', 'having', 'do', 'does', 'did', 'doing', 'a', 'an', 'the', 'and', 'but', 'if', 'or', 'because', 'as', 'until', 'while', 'of', 'at', 'by', 'for', 'with', 'about', 'against', 'between', 'into', 'through', 'during', 'before', 'after', 'above', 'below', 'to', 'from', 'up', 'down', 'in', 'out', 'on', 'off', 'over', 'under', 'again', 'further', 'then', 'once', 'here', 'there', 'when', 'where', 'why', 'how', 'all', 'any', 'both', 'each', 'few', 'more', 'most', 'other', 'some', 'such', 'no', 'nor', 'not', 'only', 'own', 'same', 'so', 'than', 'too', 'very', 's', 't', 'can', 'will', 'just', 'don', \"don't\", 'should', \"should've\", 'now', 'd', 'll', 'm', 'o', 're', 've', 'y', 'ain', 'aren', \"aren't\", 'couldn', \"couldn't\", 'didn', \"didn't\", 'doesn', \"doesn't\", 'hadn', \"hadn't\", 'hasn', \"hasn't\", 'haven', \"haven't\", 'isn', \"isn't\", 'ma', 'mightn', \"mightn't\", 'mustn', \"mustn't\", 'needn', \"needn't\", 'shan', \"shan't\", 'shouldn', \"shouldn't\", 'wasn', \"wasn't\", 'weren', \"weren't\", 'won', \"won't\", 'wouldn', \"wouldn't\"]\n"
     ]
    }
   ],
   "source": [
    "print(stopwords.words('english'))"
   ]
  },
  {
   "cell_type": "code",
   "execution_count": 7,
   "id": "59c0471f",
   "metadata": {
    "execution": {
     "iopub.execute_input": "2024-05-10T18:35:35.095133Z",
     "iopub.status.busy": "2024-05-10T18:35:35.094721Z",
     "iopub.status.idle": "2024-05-10T18:35:44.909952Z",
     "shell.execute_reply": "2024-05-10T18:35:44.908822Z"
    },
    "papermill": {
     "duration": 9.835685,
     "end_time": "2024-05-10T18:35:44.913079",
     "exception": false,
     "start_time": "2024-05-10T18:35:35.077394",
     "status": "completed"
    },
    "tags": []
   },
   "outputs": [],
   "source": [
    "#read the dataset\n",
    "df = pd.read_csv(\"/kaggle/input/twittesentimentanalysis/tweets.csv\",encoding = 'ISO-8859-1')"
   ]
  },
  {
   "cell_type": "code",
   "execution_count": 8,
   "id": "f42c9563",
   "metadata": {
    "execution": {
     "iopub.execute_input": "2024-05-10T18:35:44.948340Z",
     "iopub.status.busy": "2024-05-10T18:35:44.947108Z",
     "iopub.status.idle": "2024-05-10T18:35:44.955566Z",
     "shell.execute_reply": "2024-05-10T18:35:44.954182Z"
    },
    "papermill": {
     "duration": 0.028105,
     "end_time": "2024-05-10T18:35:44.957895",
     "exception": false,
     "start_time": "2024-05-10T18:35:44.929790",
     "status": "completed"
    },
    "tags": []
   },
   "outputs": [
    {
     "data": {
      "text/plain": [
       "(1599999, 6)"
      ]
     },
     "execution_count": 8,
     "metadata": {},
     "output_type": "execute_result"
    }
   ],
   "source": [
    "# check the number of rows and columns\n",
    "df.shape"
   ]
  },
  {
   "cell_type": "code",
   "execution_count": 9,
   "id": "4838809f",
   "metadata": {
    "execution": {
     "iopub.execute_input": "2024-05-10T18:35:44.992332Z",
     "iopub.status.busy": "2024-05-10T18:35:44.991858Z",
     "iopub.status.idle": "2024-05-10T18:35:45.020044Z",
     "shell.execute_reply": "2024-05-10T18:35:45.018659Z"
    },
    "papermill": {
     "duration": 0.048713,
     "end_time": "2024-05-10T18:35:45.022862",
     "exception": false,
     "start_time": "2024-05-10T18:35:44.974149",
     "status": "completed"
    },
    "tags": []
   },
   "outputs": [
    {
     "data": {
      "text/html": [
       "<div>\n",
       "<style scoped>\n",
       "    .dataframe tbody tr th:only-of-type {\n",
       "        vertical-align: middle;\n",
       "    }\n",
       "\n",
       "    .dataframe tbody tr th {\n",
       "        vertical-align: top;\n",
       "    }\n",
       "\n",
       "    .dataframe thead th {\n",
       "        text-align: right;\n",
       "    }\n",
       "</style>\n",
       "<table border=\"1\" class=\"dataframe\">\n",
       "  <thead>\n",
       "    <tr style=\"text-align: right;\">\n",
       "      <th></th>\n",
       "      <th>0</th>\n",
       "      <th>1467810369</th>\n",
       "      <th>Mon Apr 06 22:19:45 PDT 2009</th>\n",
       "      <th>NO_QUERY</th>\n",
       "      <th>_TheSpecialOne_</th>\n",
       "      <th>@switchfoot http://twitpic.com/2y1zl - Awww, that's a bummer.  You shoulda got David Carr of Third Day to do it. ;D</th>\n",
       "    </tr>\n",
       "  </thead>\n",
       "  <tbody>\n",
       "    <tr>\n",
       "      <th>0</th>\n",
       "      <td>0</td>\n",
       "      <td>1467810672</td>\n",
       "      <td>Mon Apr 06 22:19:49 PDT 2009</td>\n",
       "      <td>NO_QUERY</td>\n",
       "      <td>scotthamilton</td>\n",
       "      <td>is upset that he can't update his Facebook by ...</td>\n",
       "    </tr>\n",
       "    <tr>\n",
       "      <th>1</th>\n",
       "      <td>0</td>\n",
       "      <td>1467810917</td>\n",
       "      <td>Mon Apr 06 22:19:53 PDT 2009</td>\n",
       "      <td>NO_QUERY</td>\n",
       "      <td>mattycus</td>\n",
       "      <td>@Kenichan I dived many times for the ball. Man...</td>\n",
       "    </tr>\n",
       "    <tr>\n",
       "      <th>2</th>\n",
       "      <td>0</td>\n",
       "      <td>1467811184</td>\n",
       "      <td>Mon Apr 06 22:19:57 PDT 2009</td>\n",
       "      <td>NO_QUERY</td>\n",
       "      <td>ElleCTF</td>\n",
       "      <td>my whole body feels itchy and like its on fire</td>\n",
       "    </tr>\n",
       "    <tr>\n",
       "      <th>3</th>\n",
       "      <td>0</td>\n",
       "      <td>1467811193</td>\n",
       "      <td>Mon Apr 06 22:19:57 PDT 2009</td>\n",
       "      <td>NO_QUERY</td>\n",
       "      <td>Karoli</td>\n",
       "      <td>@nationwideclass no, it's not behaving at all....</td>\n",
       "    </tr>\n",
       "    <tr>\n",
       "      <th>4</th>\n",
       "      <td>0</td>\n",
       "      <td>1467811372</td>\n",
       "      <td>Mon Apr 06 22:20:00 PDT 2009</td>\n",
       "      <td>NO_QUERY</td>\n",
       "      <td>joy_wolf</td>\n",
       "      <td>@Kwesidei not the whole crew</td>\n",
       "    </tr>\n",
       "  </tbody>\n",
       "</table>\n",
       "</div>"
      ],
      "text/plain": [
       "   0  1467810369  Mon Apr 06 22:19:45 PDT 2009  NO_QUERY _TheSpecialOne_  \\\n",
       "0  0  1467810672  Mon Apr 06 22:19:49 PDT 2009  NO_QUERY   scotthamilton   \n",
       "1  0  1467810917  Mon Apr 06 22:19:53 PDT 2009  NO_QUERY        mattycus   \n",
       "2  0  1467811184  Mon Apr 06 22:19:57 PDT 2009  NO_QUERY         ElleCTF   \n",
       "3  0  1467811193  Mon Apr 06 22:19:57 PDT 2009  NO_QUERY          Karoli   \n",
       "4  0  1467811372  Mon Apr 06 22:20:00 PDT 2009  NO_QUERY        joy_wolf   \n",
       "\n",
       "  @switchfoot http://twitpic.com/2y1zl - Awww, that's a bummer.  You shoulda got David Carr of Third Day to do it. ;D  \n",
       "0  is upset that he can't update his Facebook by ...                                                                   \n",
       "1  @Kenichan I dived many times for the ball. Man...                                                                   \n",
       "2    my whole body feels itchy and like its on fire                                                                    \n",
       "3  @nationwideclass no, it's not behaving at all....                                                                   \n",
       "4                      @Kwesidei not the whole crew                                                                    "
      ]
     },
     "execution_count": 9,
     "metadata": {},
     "output_type": "execute_result"
    }
   ],
   "source": [
    "#print top rows\n",
    "df.head()"
   ]
  },
  {
   "cell_type": "code",
   "execution_count": 10,
   "id": "0356299a",
   "metadata": {
    "execution": {
     "iopub.execute_input": "2024-05-10T18:35:45.057962Z",
     "iopub.status.busy": "2024-05-10T18:35:45.057502Z",
     "iopub.status.idle": "2024-05-10T18:35:50.619928Z",
     "shell.execute_reply": "2024-05-10T18:35:50.618528Z"
    },
    "papermill": {
     "duration": 5.583923,
     "end_time": "2024-05-10T18:35:50.623344",
     "exception": false,
     "start_time": "2024-05-10T18:35:45.039421",
     "status": "completed"
    },
    "tags": []
   },
   "outputs": [],
   "source": [
    "#name the columns\n",
    "col_names = ['target','id','date','flag','user','text']\n",
    "df = pd.read_csv(\"/kaggle/input/twittesentimentanalysis/tweets.csv\",names = col_names, encoding = 'ISO-8859-1')"
   ]
  },
  {
   "cell_type": "code",
   "execution_count": 11,
   "id": "d7172d7e",
   "metadata": {
    "execution": {
     "iopub.execute_input": "2024-05-10T18:35:50.659015Z",
     "iopub.status.busy": "2024-05-10T18:35:50.658615Z",
     "iopub.status.idle": "2024-05-10T18:35:50.667080Z",
     "shell.execute_reply": "2024-05-10T18:35:50.665569Z"
    },
    "papermill": {
     "duration": 0.029388,
     "end_time": "2024-05-10T18:35:50.669708",
     "exception": false,
     "start_time": "2024-05-10T18:35:50.640320",
     "status": "completed"
    },
    "tags": []
   },
   "outputs": [
    {
     "data": {
      "text/plain": [
       "(1600000, 6)"
      ]
     },
     "execution_count": 11,
     "metadata": {},
     "output_type": "execute_result"
    }
   ],
   "source": [
    "df.shape"
   ]
  },
  {
   "cell_type": "code",
   "execution_count": 12,
   "id": "3b29fff1",
   "metadata": {
    "execution": {
     "iopub.execute_input": "2024-05-10T18:35:50.706030Z",
     "iopub.status.busy": "2024-05-10T18:35:50.705090Z",
     "iopub.status.idle": "2024-05-10T18:35:50.719589Z",
     "shell.execute_reply": "2024-05-10T18:35:50.718735Z"
    },
    "papermill": {
     "duration": 0.035223,
     "end_time": "2024-05-10T18:35:50.722019",
     "exception": false,
     "start_time": "2024-05-10T18:35:50.686796",
     "status": "completed"
    },
    "tags": []
   },
   "outputs": [
    {
     "data": {
      "text/html": [
       "<div>\n",
       "<style scoped>\n",
       "    .dataframe tbody tr th:only-of-type {\n",
       "        vertical-align: middle;\n",
       "    }\n",
       "\n",
       "    .dataframe tbody tr th {\n",
       "        vertical-align: top;\n",
       "    }\n",
       "\n",
       "    .dataframe thead th {\n",
       "        text-align: right;\n",
       "    }\n",
       "</style>\n",
       "<table border=\"1\" class=\"dataframe\">\n",
       "  <thead>\n",
       "    <tr style=\"text-align: right;\">\n",
       "      <th></th>\n",
       "      <th>target</th>\n",
       "      <th>id</th>\n",
       "      <th>date</th>\n",
       "      <th>flag</th>\n",
       "      <th>user</th>\n",
       "      <th>text</th>\n",
       "    </tr>\n",
       "  </thead>\n",
       "  <tbody>\n",
       "    <tr>\n",
       "      <th>0</th>\n",
       "      <td>0</td>\n",
       "      <td>1467810369</td>\n",
       "      <td>Mon Apr 06 22:19:45 PDT 2009</td>\n",
       "      <td>NO_QUERY</td>\n",
       "      <td>_TheSpecialOne_</td>\n",
       "      <td>@switchfoot http://twitpic.com/2y1zl - Awww, t...</td>\n",
       "    </tr>\n",
       "    <tr>\n",
       "      <th>1</th>\n",
       "      <td>0</td>\n",
       "      <td>1467810672</td>\n",
       "      <td>Mon Apr 06 22:19:49 PDT 2009</td>\n",
       "      <td>NO_QUERY</td>\n",
       "      <td>scotthamilton</td>\n",
       "      <td>is upset that he can't update his Facebook by ...</td>\n",
       "    </tr>\n",
       "    <tr>\n",
       "      <th>2</th>\n",
       "      <td>0</td>\n",
       "      <td>1467810917</td>\n",
       "      <td>Mon Apr 06 22:19:53 PDT 2009</td>\n",
       "      <td>NO_QUERY</td>\n",
       "      <td>mattycus</td>\n",
       "      <td>@Kenichan I dived many times for the ball. Man...</td>\n",
       "    </tr>\n",
       "    <tr>\n",
       "      <th>3</th>\n",
       "      <td>0</td>\n",
       "      <td>1467811184</td>\n",
       "      <td>Mon Apr 06 22:19:57 PDT 2009</td>\n",
       "      <td>NO_QUERY</td>\n",
       "      <td>ElleCTF</td>\n",
       "      <td>my whole body feels itchy and like its on fire</td>\n",
       "    </tr>\n",
       "    <tr>\n",
       "      <th>4</th>\n",
       "      <td>0</td>\n",
       "      <td>1467811193</td>\n",
       "      <td>Mon Apr 06 22:19:57 PDT 2009</td>\n",
       "      <td>NO_QUERY</td>\n",
       "      <td>Karoli</td>\n",
       "      <td>@nationwideclass no, it's not behaving at all....</td>\n",
       "    </tr>\n",
       "  </tbody>\n",
       "</table>\n",
       "</div>"
      ],
      "text/plain": [
       "   target          id                          date      flag  \\\n",
       "0       0  1467810369  Mon Apr 06 22:19:45 PDT 2009  NO_QUERY   \n",
       "1       0  1467810672  Mon Apr 06 22:19:49 PDT 2009  NO_QUERY   \n",
       "2       0  1467810917  Mon Apr 06 22:19:53 PDT 2009  NO_QUERY   \n",
       "3       0  1467811184  Mon Apr 06 22:19:57 PDT 2009  NO_QUERY   \n",
       "4       0  1467811193  Mon Apr 06 22:19:57 PDT 2009  NO_QUERY   \n",
       "\n",
       "              user                                               text  \n",
       "0  _TheSpecialOne_  @switchfoot http://twitpic.com/2y1zl - Awww, t...  \n",
       "1    scotthamilton  is upset that he can't update his Facebook by ...  \n",
       "2         mattycus  @Kenichan I dived many times for the ball. Man...  \n",
       "3          ElleCTF    my whole body feels itchy and like its on fire   \n",
       "4           Karoli  @nationwideclass no, it's not behaving at all....  "
      ]
     },
     "execution_count": 12,
     "metadata": {},
     "output_type": "execute_result"
    }
   ],
   "source": [
    "df.head()"
   ]
  },
  {
   "cell_type": "code",
   "execution_count": 13,
   "id": "0cb05347",
   "metadata": {
    "execution": {
     "iopub.execute_input": "2024-05-10T18:35:50.760218Z",
     "iopub.status.busy": "2024-05-10T18:35:50.759811Z",
     "iopub.status.idle": "2024-05-10T18:35:51.469542Z",
     "shell.execute_reply": "2024-05-10T18:35:51.468171Z"
    },
    "papermill": {
     "duration": 0.73341,
     "end_time": "2024-05-10T18:35:51.472664",
     "exception": false,
     "start_time": "2024-05-10T18:35:50.739254",
     "status": "completed"
    },
    "tags": []
   },
   "outputs": [
    {
     "data": {
      "text/plain": [
       "target    0\n",
       "id        0\n",
       "date      0\n",
       "flag      0\n",
       "user      0\n",
       "text      0\n",
       "dtype: int64"
      ]
     },
     "execution_count": 13,
     "metadata": {},
     "output_type": "execute_result"
    }
   ],
   "source": [
    "# counting the number of missing values \n",
    "df.isnull().sum()"
   ]
  },
  {
   "cell_type": "code",
   "execution_count": 14,
   "id": "fa8a4b4f",
   "metadata": {
    "execution": {
     "iopub.execute_input": "2024-05-10T18:35:51.511487Z",
     "iopub.status.busy": "2024-05-10T18:35:51.510986Z",
     "iopub.status.idle": "2024-05-10T18:35:51.545003Z",
     "shell.execute_reply": "2024-05-10T18:35:51.543518Z"
    },
    "papermill": {
     "duration": 0.057378,
     "end_time": "2024-05-10T18:35:51.548041",
     "exception": false,
     "start_time": "2024-05-10T18:35:51.490663",
     "status": "completed"
    },
    "tags": []
   },
   "outputs": [
    {
     "data": {
      "text/plain": [
       "target\n",
       "0    800000\n",
       "4    800000\n",
       "Name: count, dtype: int64"
      ]
     },
     "execution_count": 14,
     "metadata": {},
     "output_type": "execute_result"
    }
   ],
   "source": [
    "#check the distribution of target columns\n",
    "df['target'].value_counts()"
   ]
  },
  {
   "cell_type": "code",
   "execution_count": 15,
   "id": "69c48624",
   "metadata": {
    "execution": {
     "iopub.execute_input": "2024-05-10T18:35:51.590884Z",
     "iopub.status.busy": "2024-05-10T18:35:51.590456Z",
     "iopub.status.idle": "2024-05-10T18:35:51.614479Z",
     "shell.execute_reply": "2024-05-10T18:35:51.613061Z"
    },
    "papermill": {
     "duration": 0.050717,
     "end_time": "2024-05-10T18:35:51.617927",
     "exception": false,
     "start_time": "2024-05-10T18:35:51.567210",
     "status": "completed"
    },
    "tags": []
   },
   "outputs": [],
   "source": [
    "#converting target from 4 to 1\n",
    "df.replace({'target':{4:1}},inplace=True)"
   ]
  },
  {
   "cell_type": "markdown",
   "id": "080dde19",
   "metadata": {
    "papermill": {
     "duration": 0.017764,
     "end_time": "2024-05-10T18:35:51.653692",
     "exception": false,
     "start_time": "2024-05-10T18:35:51.635928",
     "status": "completed"
    },
    "tags": []
   },
   "source": [
    "**Stemming**"
   ]
  },
  {
   "cell_type": "code",
   "execution_count": 16,
   "id": "1a6b62e0",
   "metadata": {
    "execution": {
     "iopub.execute_input": "2024-05-10T18:35:51.694632Z",
     "iopub.status.busy": "2024-05-10T18:35:51.694207Z",
     "iopub.status.idle": "2024-05-10T18:47:29.061225Z",
     "shell.execute_reply": "2024-05-10T18:47:29.059260Z"
    },
    "papermill": {
     "duration": 697.391152,
     "end_time": "2024-05-10T18:47:29.065218",
     "exception": false,
     "start_time": "2024-05-10T18:35:51.674066",
     "status": "completed"
    },
    "tags": []
   },
   "outputs": [
    {
     "data": {
      "application/vnd.jupyter.widget-view+json": {
       "model_id": "fc147041ad354e9d8a5ea94a3b806261",
       "version_major": 2,
       "version_minor": 0
      },
      "text/plain": [
       "  0%|          | 0/1600000 [00:00<?, ?it/s]"
      ]
     },
     "metadata": {},
     "output_type": "display_data"
    }
   ],
   "source": [
    "port_stem = PorterStemmer()\n",
    "\n",
    "def stemming(content):\n",
    "    stemmed_content = re.sub('[^a-zA-Z]', ' ', content)\n",
    "    stemmed_content = stemmed_content.lower()\n",
    "    stemmed_content = stemmed_content.split()\n",
    "    stemmed_content = [port_stem.stem(word) for word in stemmed_content]\n",
    "    stemmed_content = ' '.join(stemmed_content)\n",
    "    \n",
    "    return stemmed_content\n",
    "\n",
    "tqdm.pandas()  # Enable tqdm progress_apply\n",
    "df['stemmed_content'] = df['text'].progress_apply(stemming)"
   ]
  },
  {
   "cell_type": "code",
   "execution_count": 17,
   "id": "dc364225",
   "metadata": {
    "execution": {
     "iopub.execute_input": "2024-05-10T18:47:29.109489Z",
     "iopub.status.busy": "2024-05-10T18:47:29.108595Z",
     "iopub.status.idle": "2024-05-10T18:47:29.121615Z",
     "shell.execute_reply": "2024-05-10T18:47:29.120797Z"
    },
    "papermill": {
     "duration": 0.040441,
     "end_time": "2024-05-10T18:47:29.125023",
     "exception": false,
     "start_time": "2024-05-10T18:47:29.084582",
     "status": "completed"
    },
    "tags": []
   },
   "outputs": [
    {
     "data": {
      "text/html": [
       "<div>\n",
       "<style scoped>\n",
       "    .dataframe tbody tr th:only-of-type {\n",
       "        vertical-align: middle;\n",
       "    }\n",
       "\n",
       "    .dataframe tbody tr th {\n",
       "        vertical-align: top;\n",
       "    }\n",
       "\n",
       "    .dataframe thead th {\n",
       "        text-align: right;\n",
       "    }\n",
       "</style>\n",
       "<table border=\"1\" class=\"dataframe\">\n",
       "  <thead>\n",
       "    <tr style=\"text-align: right;\">\n",
       "      <th></th>\n",
       "      <th>target</th>\n",
       "      <th>id</th>\n",
       "      <th>date</th>\n",
       "      <th>flag</th>\n",
       "      <th>user</th>\n",
       "      <th>text</th>\n",
       "      <th>stemmed_content</th>\n",
       "    </tr>\n",
       "  </thead>\n",
       "  <tbody>\n",
       "    <tr>\n",
       "      <th>0</th>\n",
       "      <td>0</td>\n",
       "      <td>1467810369</td>\n",
       "      <td>Mon Apr 06 22:19:45 PDT 2009</td>\n",
       "      <td>NO_QUERY</td>\n",
       "      <td>_TheSpecialOne_</td>\n",
       "      <td>@switchfoot http://twitpic.com/2y1zl - Awww, t...</td>\n",
       "      <td>switchfoot http twitpic com y zl awww that s a...</td>\n",
       "    </tr>\n",
       "    <tr>\n",
       "      <th>1</th>\n",
       "      <td>0</td>\n",
       "      <td>1467810672</td>\n",
       "      <td>Mon Apr 06 22:19:49 PDT 2009</td>\n",
       "      <td>NO_QUERY</td>\n",
       "      <td>scotthamilton</td>\n",
       "      <td>is upset that he can't update his Facebook by ...</td>\n",
       "      <td>is upset that he can t updat hi facebook by te...</td>\n",
       "    </tr>\n",
       "    <tr>\n",
       "      <th>2</th>\n",
       "      <td>0</td>\n",
       "      <td>1467810917</td>\n",
       "      <td>Mon Apr 06 22:19:53 PDT 2009</td>\n",
       "      <td>NO_QUERY</td>\n",
       "      <td>mattycus</td>\n",
       "      <td>@Kenichan I dived many times for the ball. Man...</td>\n",
       "      <td>kenichan i dive mani time for the ball manag t...</td>\n",
       "    </tr>\n",
       "    <tr>\n",
       "      <th>3</th>\n",
       "      <td>0</td>\n",
       "      <td>1467811184</td>\n",
       "      <td>Mon Apr 06 22:19:57 PDT 2009</td>\n",
       "      <td>NO_QUERY</td>\n",
       "      <td>ElleCTF</td>\n",
       "      <td>my whole body feels itchy and like its on fire</td>\n",
       "      <td>my whole bodi feel itchi and like it on fire</td>\n",
       "    </tr>\n",
       "    <tr>\n",
       "      <th>4</th>\n",
       "      <td>0</td>\n",
       "      <td>1467811193</td>\n",
       "      <td>Mon Apr 06 22:19:57 PDT 2009</td>\n",
       "      <td>NO_QUERY</td>\n",
       "      <td>Karoli</td>\n",
       "      <td>@nationwideclass no, it's not behaving at all....</td>\n",
       "      <td>nationwideclass no it s not behav at all i m m...</td>\n",
       "    </tr>\n",
       "  </tbody>\n",
       "</table>\n",
       "</div>"
      ],
      "text/plain": [
       "   target          id                          date      flag  \\\n",
       "0       0  1467810369  Mon Apr 06 22:19:45 PDT 2009  NO_QUERY   \n",
       "1       0  1467810672  Mon Apr 06 22:19:49 PDT 2009  NO_QUERY   \n",
       "2       0  1467810917  Mon Apr 06 22:19:53 PDT 2009  NO_QUERY   \n",
       "3       0  1467811184  Mon Apr 06 22:19:57 PDT 2009  NO_QUERY   \n",
       "4       0  1467811193  Mon Apr 06 22:19:57 PDT 2009  NO_QUERY   \n",
       "\n",
       "              user                                               text  \\\n",
       "0  _TheSpecialOne_  @switchfoot http://twitpic.com/2y1zl - Awww, t...   \n",
       "1    scotthamilton  is upset that he can't update his Facebook by ...   \n",
       "2         mattycus  @Kenichan I dived many times for the ball. Man...   \n",
       "3          ElleCTF    my whole body feels itchy and like its on fire    \n",
       "4           Karoli  @nationwideclass no, it's not behaving at all....   \n",
       "\n",
       "                                     stemmed_content  \n",
       "0  switchfoot http twitpic com y zl awww that s a...  \n",
       "1  is upset that he can t updat hi facebook by te...  \n",
       "2  kenichan i dive mani time for the ball manag t...  \n",
       "3       my whole bodi feel itchi and like it on fire  \n",
       "4  nationwideclass no it s not behav at all i m m...  "
      ]
     },
     "execution_count": 17,
     "metadata": {},
     "output_type": "execute_result"
    }
   ],
   "source": [
    "df.head()"
   ]
  },
  {
   "cell_type": "code",
   "execution_count": 18,
   "id": "965294a6",
   "metadata": {
    "execution": {
     "iopub.execute_input": "2024-05-10T18:47:29.165830Z",
     "iopub.status.busy": "2024-05-10T18:47:29.165161Z",
     "iopub.status.idle": "2024-05-10T18:47:29.172441Z",
     "shell.execute_reply": "2024-05-10T18:47:29.171250Z"
    },
    "papermill": {
     "duration": 0.030898,
     "end_time": "2024-05-10T18:47:29.175152",
     "exception": false,
     "start_time": "2024-05-10T18:47:29.144254",
     "status": "completed"
    },
    "tags": []
   },
   "outputs": [
    {
     "name": "stdout",
     "output_type": "stream",
     "text": [
      "0          switchfoot http twitpic com y zl awww that s a...\n",
      "1          is upset that he can t updat hi facebook by te...\n",
      "2          kenichan i dive mani time for the ball manag t...\n",
      "3               my whole bodi feel itchi and like it on fire\n",
      "4          nationwideclass no it s not behav at all i m m...\n",
      "                                 ...                        \n",
      "1599995    just woke up have no school is the best feel ever\n",
      "1599996    thewdb com veri cool to hear old walt intervie...\n",
      "1599997    are you readi for your mojo makeov ask me for ...\n",
      "1599998    happi th birthday to my boo of alll time tupac...\n",
      "1599999    happi charitytuesday thenspcc sparkschar speak...\n",
      "Name: stemmed_content, Length: 1600000, dtype: object\n"
     ]
    }
   ],
   "source": [
    "print(df['stemmed_content'])"
   ]
  },
  {
   "cell_type": "code",
   "execution_count": 19,
   "id": "673873fb",
   "metadata": {
    "execution": {
     "iopub.execute_input": "2024-05-10T18:47:29.215181Z",
     "iopub.status.busy": "2024-05-10T18:47:29.214549Z",
     "iopub.status.idle": "2024-05-10T18:47:29.220422Z",
     "shell.execute_reply": "2024-05-10T18:47:29.219001Z"
    },
    "papermill": {
     "duration": 0.03004,
     "end_time": "2024-05-10T18:47:29.223541",
     "exception": false,
     "start_time": "2024-05-10T18:47:29.193501",
     "status": "completed"
    },
    "tags": []
   },
   "outputs": [],
   "source": [
    "#separating data and label\n",
    "X = df['stemmed_content'].values\n",
    "y = df['target'].values"
   ]
  },
  {
   "cell_type": "code",
   "execution_count": 20,
   "id": "8ef4380b",
   "metadata": {
    "execution": {
     "iopub.execute_input": "2024-05-10T18:47:29.264239Z",
     "iopub.status.busy": "2024-05-10T18:47:29.263838Z",
     "iopub.status.idle": "2024-05-10T18:47:29.270380Z",
     "shell.execute_reply": "2024-05-10T18:47:29.268899Z"
    },
    "papermill": {
     "duration": 0.030486,
     "end_time": "2024-05-10T18:47:29.273418",
     "exception": false,
     "start_time": "2024-05-10T18:47:29.242932",
     "status": "completed"
    },
    "tags": []
   },
   "outputs": [
    {
     "name": "stdout",
     "output_type": "stream",
     "text": [
      "['switchfoot http twitpic com y zl awww that s a bummer you shoulda got david carr of third day to do it d'\n",
      " 'is upset that he can t updat hi facebook by text it and might cri as a result school today also blah'\n",
      " 'kenichan i dive mani time for the ball manag to save the rest go out of bound'\n",
      " ... 'are you readi for your mojo makeov ask me for detail'\n",
      " 'happi th birthday to my boo of alll time tupac amaru shakur'\n",
      " 'happi charitytuesday thenspcc sparkschar speakinguph h']\n"
     ]
    }
   ],
   "source": [
    "print(X)"
   ]
  },
  {
   "cell_type": "code",
   "execution_count": 21,
   "id": "fd86a3b4",
   "metadata": {
    "execution": {
     "iopub.execute_input": "2024-05-10T18:47:29.313239Z",
     "iopub.status.busy": "2024-05-10T18:47:29.312753Z",
     "iopub.status.idle": "2024-05-10T18:47:29.320665Z",
     "shell.execute_reply": "2024-05-10T18:47:29.319081Z"
    },
    "papermill": {
     "duration": 0.03128,
     "end_time": "2024-05-10T18:47:29.323340",
     "exception": false,
     "start_time": "2024-05-10T18:47:29.292060",
     "status": "completed"
    },
    "tags": []
   },
   "outputs": [
    {
     "name": "stdout",
     "output_type": "stream",
     "text": [
      "[0 0 0 ... 1 1 1]\n"
     ]
    }
   ],
   "source": [
    "print(y)"
   ]
  },
  {
   "cell_type": "code",
   "execution_count": 22,
   "id": "ce335381",
   "metadata": {
    "execution": {
     "iopub.execute_input": "2024-05-10T18:47:29.362403Z",
     "iopub.status.busy": "2024-05-10T18:47:29.361922Z",
     "iopub.status.idle": "2024-05-10T18:47:29.369596Z",
     "shell.execute_reply": "2024-05-10T18:47:29.368309Z"
    },
    "papermill": {
     "duration": 0.030318,
     "end_time": "2024-05-10T18:47:29.371920",
     "exception": false,
     "start_time": "2024-05-10T18:47:29.341602",
     "status": "completed"
    },
    "tags": []
   },
   "outputs": [
    {
     "data": {
      "text/plain": [
       "(1600000,)"
      ]
     },
     "execution_count": 22,
     "metadata": {},
     "output_type": "execute_result"
    }
   ],
   "source": [
    "X.shape"
   ]
  },
  {
   "cell_type": "markdown",
   "id": "fee75b49",
   "metadata": {
    "papermill": {
     "duration": 0.018515,
     "end_time": "2024-05-10T18:47:29.408292",
     "exception": false,
     "start_time": "2024-05-10T18:47:29.389777",
     "status": "completed"
    },
    "tags": []
   },
   "source": [
    "**Splitting into training and test data**"
   ]
  },
  {
   "cell_type": "code",
   "execution_count": 23,
   "id": "3166a2f4",
   "metadata": {
    "execution": {
     "iopub.execute_input": "2024-05-10T18:47:29.447710Z",
     "iopub.status.busy": "2024-05-10T18:47:29.447193Z",
     "iopub.status.idle": "2024-05-10T18:47:30.399105Z",
     "shell.execute_reply": "2024-05-10T18:47:30.397780Z"
    },
    "papermill": {
     "duration": 0.975377,
     "end_time": "2024-05-10T18:47:30.402358",
     "exception": false,
     "start_time": "2024-05-10T18:47:29.426981",
     "status": "completed"
    },
    "tags": []
   },
   "outputs": [],
   "source": [
    "X_train,X_test,y_train,y_test = train_test_split(X,y,test_size=0.2,stratify=y,random_state=43)\n",
    "#stratify = equal distribution of 1 and 0 in test data as well"
   ]
  },
  {
   "cell_type": "code",
   "execution_count": 24,
   "id": "c33dc1a4",
   "metadata": {
    "execution": {
     "iopub.execute_input": "2024-05-10T18:47:30.446044Z",
     "iopub.status.busy": "2024-05-10T18:47:30.445553Z",
     "iopub.status.idle": "2024-05-10T18:47:30.451951Z",
     "shell.execute_reply": "2024-05-10T18:47:30.450732Z"
    },
    "papermill": {
     "duration": 0.031363,
     "end_time": "2024-05-10T18:47:30.455505",
     "exception": false,
     "start_time": "2024-05-10T18:47:30.424142",
     "status": "completed"
    },
    "tags": []
   },
   "outputs": [
    {
     "name": "stdout",
     "output_type": "stream",
     "text": [
      "(1280000,) (320000,)\n"
     ]
    }
   ],
   "source": [
    "print(X_train.shape,X_test.shape)"
   ]
  },
  {
   "cell_type": "code",
   "execution_count": 25,
   "id": "96a09fa3",
   "metadata": {
    "execution": {
     "iopub.execute_input": "2024-05-10T18:47:30.496914Z",
     "iopub.status.busy": "2024-05-10T18:47:30.496452Z",
     "iopub.status.idle": "2024-05-10T18:47:30.505101Z",
     "shell.execute_reply": "2024-05-10T18:47:30.503543Z"
    },
    "papermill": {
     "duration": 0.032171,
     "end_time": "2024-05-10T18:47:30.507776",
     "exception": false,
     "start_time": "2024-05-10T18:47:30.475605",
     "status": "completed"
    },
    "tags": []
   },
   "outputs": [
    {
     "data": {
      "text/plain": [
       "array(['spencerpratt u should go to topshop',\n",
       "       'lol pay for those abort brennan',\n",
       "       'bzmclaughlin then quot twitter quot it shall be', ...,\n",
       "       'watch tri to find kriswilliam in a bar scene',\n",
       "       'hilari s grad parti senior',\n",
       "       'clifsoulo aw i hate it when i becom quot that quot kind of girl it happen'],\n",
       "      dtype=object)"
      ]
     },
     "execution_count": 25,
     "metadata": {},
     "output_type": "execute_result"
    }
   ],
   "source": [
    "X_test"
   ]
  },
  {
   "cell_type": "markdown",
   "id": "1b4ef555",
   "metadata": {
    "papermill": {
     "duration": 0.019177,
     "end_time": "2024-05-10T18:47:30.546710",
     "exception": false,
     "start_time": "2024-05-10T18:47:30.527533",
     "status": "completed"
    },
    "tags": []
   },
   "source": [
    "**Converting Textual to numerical data**"
   ]
  },
  {
   "cell_type": "code",
   "execution_count": 26,
   "id": "c8f0ce33",
   "metadata": {
    "execution": {
     "iopub.execute_input": "2024-05-10T18:47:30.590316Z",
     "iopub.status.busy": "2024-05-10T18:47:30.589234Z",
     "iopub.status.idle": "2024-05-10T18:48:08.234045Z",
     "shell.execute_reply": "2024-05-10T18:48:08.232851Z"
    },
    "papermill": {
     "duration": 37.670325,
     "end_time": "2024-05-10T18:48:08.237382",
     "exception": false,
     "start_time": "2024-05-10T18:47:30.567057",
     "status": "completed"
    },
    "tags": []
   },
   "outputs": [],
   "source": [
    "vectorizer = TfidfVectorizer()\n",
    "# train test needs to be fit and transform where as test data is only tensformed\n",
    "X_train = vectorizer.fit_transform(X_train)\n",
    "X_test = vectorizer.transform(X_test)"
   ]
  },
  {
   "cell_type": "code",
   "execution_count": 27,
   "id": "ad11f1b2",
   "metadata": {
    "execution": {
     "iopub.execute_input": "2024-05-10T18:48:08.276250Z",
     "iopub.status.busy": "2024-05-10T18:48:08.275816Z",
     "iopub.status.idle": "2024-05-10T18:48:08.457131Z",
     "shell.execute_reply": "2024-05-10T18:48:08.455112Z"
    },
    "papermill": {
     "duration": 0.203752,
     "end_time": "2024-05-10T18:48:08.459754",
     "exception": false,
     "start_time": "2024-05-10T18:48:08.256002",
     "status": "completed"
    },
    "tags": []
   },
   "outputs": [
    {
     "name": "stdout",
     "output_type": "stream",
     "text": [
      "  (0, 93734)\t0.1953940244259041\n",
      "  (0, 304633)\t0.30716725213947654\n",
      "  (0, 400988)\t0.12087023679611819\n",
      "  (0, 439254)\t0.6120651370848155\n",
      "  (0, 275899)\t0.3641897648809213\n",
      "  (0, 354578)\t0.3180623203069973\n",
      "  (0, 413724)\t0.3287688120604728\n",
      "  (0, 453439)\t0.2756175189259111\n",
      "  (0, 299210)\t0.24573224307832975\n",
      "  (1, 232107)\t0.9206998721976809\n",
      "  (1, 280985)\t0.20768646558399373\n",
      "  (1, 267656)\t0.3304210606913593\n",
      "  (2, 57548)\t0.26598203408022736\n",
      "  (2, 109537)\t0.36504602715649576\n",
      "  (2, 136007)\t0.1583566711610987\n",
      "  (2, 400405)\t0.22222592278149184\n",
      "  (2, 404291)\t0.23537409926701472\n",
      "  (2, 163506)\t0.34276513300401185\n",
      "  (2, 86536)\t0.7407056477018906\n",
      "  (3, 138666)\t0.5815588668020486\n",
      "  (3, 406657)\t0.36033811100716495\n",
      "  (3, 375741)\t0.2353136626626136\n",
      "  (3, 328788)\t0.5815588668020486\n",
      "  (3, 245540)\t0.23296331399873102\n",
      "  (3, 42965)\t0.20975554295368154\n",
      "  :\t:\n",
      "  (1279997, 129219)\t0.26029252384606566\n",
      "  (1279997, 124407)\t0.1875720060783265\n",
      "  (1279997, 40014)\t0.16905718770437209\n",
      "  (1279997, 241937)\t0.12941682359475168\n",
      "  (1279997, 22407)\t0.13074931123613182\n",
      "  (1279997, 175689)\t0.14898196991069165\n",
      "  (1279997, 130056)\t0.14413492398839942\n",
      "  (1279997, 412883)\t0.13591541121449288\n",
      "  (1279997, 16122)\t0.08934293106204165\n",
      "  (1279998, 392861)\t0.5056804248051433\n",
      "  (1279998, 126317)\t0.3852105243612169\n",
      "  (1279998, 65279)\t0.358702708155125\n",
      "  (1279998, 81258)\t0.3561863941520506\n",
      "  (1279998, 115203)\t0.2995066587741479\n",
      "  (1279998, 387222)\t0.2085297097167598\n",
      "  (1279998, 345918)\t0.31061369603312056\n",
      "  (1279998, 132367)\t0.2179415672973015\n",
      "  (1279998, 434641)\t0.1409827591625403\n",
      "  (1279998, 206210)\t0.1315669180738876\n",
      "  (1279998, 400624)\t0.12122050030524681\n",
      "  (1279998, 455756)\t0.10637247887784261\n",
      "  (1279999, 254653)\t0.7210924600601234\n",
      "  (1279999, 161673)\t0.5587636981080498\n",
      "  (1279999, 301732)\t0.281163028021146\n",
      "  (1279999, 149724)\t0.297919696218689\n"
     ]
    }
   ],
   "source": [
    "print(X_train)"
   ]
  },
  {
   "cell_type": "code",
   "execution_count": 28,
   "id": "31cd51e3",
   "metadata": {
    "execution": {
     "iopub.execute_input": "2024-05-10T18:48:08.500652Z",
     "iopub.status.busy": "2024-05-10T18:48:08.500217Z",
     "iopub.status.idle": "2024-05-10T18:48:08.536471Z",
     "shell.execute_reply": "2024-05-10T18:48:08.535470Z"
    },
    "papermill": {
     "duration": 0.060285,
     "end_time": "2024-05-10T18:48:08.539594",
     "exception": false,
     "start_time": "2024-05-10T18:48:08.479309",
     "status": "completed"
    },
    "tags": []
   },
   "outputs": [
    {
     "name": "stdout",
     "output_type": "stream",
     "text": [
      "  (0, 413317)\t0.639123775441555\n",
      "  (0, 410982)\t0.13669735063493535\n",
      "  (0, 378497)\t0.6520386990636048\n",
      "  (0, 366094)\t0.3197331633601728\n",
      "  (0, 149724)\t0.2131921039012961\n",
      "  (1, 406989)\t0.3168803048289626\n",
      "  (1, 310756)\t0.34993481033236185\n",
      "  (1, 239683)\t0.22566463330588526\n",
      "  (1, 136007)\t0.1596348181021571\n",
      "  (1, 51395)\t0.6197696992590671\n",
      "  (1, 1938)\t0.5626812765090861\n",
      "  (2, 420754)\t0.3261371729394035\n",
      "  (2, 403668)\t0.33106034835025816\n",
      "  (2, 361519)\t0.5150548002757593\n",
      "  (2, 329779)\t0.6536303504608081\n",
      "  (2, 183673)\t0.18186155173495705\n",
      "  (2, 35311)\t0.24175583518755395\n",
      "  (3, 442258)\t0.16340662290596691\n",
      "  (3, 441107)\t0.2419412027298665\n",
      "  (3, 435821)\t0.5125292210011894\n",
      "  (3, 410982)\t0.08257888701568154\n",
      "  (3, 403668)\t0.17922389348456308\n",
      "  (3, 373430)\t0.4447795479310646\n",
      "  (3, 280985)\t0.10033094938240181\n",
      "  (3, 178973)\t0.11301598722262234\n",
      "  :\t:\n",
      "  (319996, 13245)\t0.2728022896274167\n",
      "  (319997, 436543)\t0.2391677695054045\n",
      "  (319997, 415971)\t0.26075314943494043\n",
      "  (319997, 410982)\t0.1161199896218741\n",
      "  (319997, 355422)\t0.43614202360225796\n",
      "  (319997, 222732)\t0.6376364487092343\n",
      "  (319997, 178973)\t0.15891974011353113\n",
      "  (319997, 132200)\t0.2908976334335123\n",
      "  (319997, 33024)\t0.39325017316006133\n",
      "  (319998, 359264)\t0.5543756380536347\n",
      "  (319998, 309006)\t0.3878698716232374\n",
      "  (319998, 166127)\t0.5089824423572114\n",
      "  (319998, 152366)\t0.5321292023481579\n",
      "  (319999, 440216)\t0.192229690144132\n",
      "  (319999, 400624)\t0.13347561024197171\n",
      "  (319999, 329779)\t0.3925049279252768\n",
      "  (319999, 298572)\t0.13182012918206099\n",
      "  (319999, 217789)\t0.2742414832263901\n",
      "  (319999, 183673)\t0.2184156693635308\n",
      "  (319999, 160523)\t0.21490770591650055\n",
      "  (319999, 159366)\t0.24596674814113964\n",
      "  (319999, 147863)\t0.22825810685781597\n",
      "  (319999, 75966)\t0.5685161348723073\n",
      "  (319999, 36550)\t0.31218760645479077\n",
      "  (319999, 28638)\t0.267251049043479\n"
     ]
    }
   ],
   "source": [
    "print(X_test)"
   ]
  },
  {
   "cell_type": "markdown",
   "id": "5258889b",
   "metadata": {
    "papermill": {
     "duration": 0.01846,
     "end_time": "2024-05-10T18:48:08.576503",
     "exception": false,
     "start_time": "2024-05-10T18:48:08.558043",
     "status": "completed"
    },
    "tags": []
   },
   "source": [
    "**Train the Macine Learning Model Logistic Regression**"
   ]
  },
  {
   "cell_type": "code",
   "execution_count": 29,
   "id": "47124721",
   "metadata": {
    "execution": {
     "iopub.execute_input": "2024-05-10T18:48:08.617620Z",
     "iopub.status.busy": "2024-05-10T18:48:08.616716Z",
     "iopub.status.idle": "2024-05-10T18:48:08.622701Z",
     "shell.execute_reply": "2024-05-10T18:48:08.621492Z"
    },
    "papermill": {
     "duration": 0.029324,
     "end_time": "2024-05-10T18:48:08.625164",
     "exception": false,
     "start_time": "2024-05-10T18:48:08.595840",
     "status": "completed"
    },
    "tags": []
   },
   "outputs": [],
   "source": [
    "model = LogisticRegression(max_iter = 1000)"
   ]
  },
  {
   "cell_type": "code",
   "execution_count": 30,
   "id": "1f7af521",
   "metadata": {
    "execution": {
     "iopub.execute_input": "2024-05-10T18:48:08.665059Z",
     "iopub.status.busy": "2024-05-10T18:48:08.664639Z",
     "iopub.status.idle": "2024-05-10T18:48:08.671485Z",
     "shell.execute_reply": "2024-05-10T18:48:08.669847Z"
    },
    "papermill": {
     "duration": 0.029838,
     "end_time": "2024-05-10T18:48:08.673916",
     "exception": false,
     "start_time": "2024-05-10T18:48:08.644078",
     "status": "completed"
    },
    "tags": []
   },
   "outputs": [
    {
     "name": "stdout",
     "output_type": "stream",
     "text": [
      "(1280000, 461276) (1280000,)\n"
     ]
    }
   ],
   "source": [
    "print(X_train.shape,y_train.shape)\n"
   ]
  },
  {
   "cell_type": "code",
   "execution_count": 31,
   "id": "080d23e5",
   "metadata": {
    "execution": {
     "iopub.execute_input": "2024-05-10T18:48:08.714966Z",
     "iopub.status.busy": "2024-05-10T18:48:08.714565Z",
     "iopub.status.idle": "2024-05-10T18:51:36.841162Z",
     "shell.execute_reply": "2024-05-10T18:51:36.839791Z"
    },
    "papermill": {
     "duration": 208.19008,
     "end_time": "2024-05-10T18:51:36.883298",
     "exception": false,
     "start_time": "2024-05-10T18:48:08.693218",
     "status": "completed"
    },
    "tags": []
   },
   "outputs": [
    {
     "data": {
      "text/html": [
       "<style>#sk-container-id-1 {color: black;background-color: white;}#sk-container-id-1 pre{padding: 0;}#sk-container-id-1 div.sk-toggleable {background-color: white;}#sk-container-id-1 label.sk-toggleable__label {cursor: pointer;display: block;width: 100%;margin-bottom: 0;padding: 0.3em;box-sizing: border-box;text-align: center;}#sk-container-id-1 label.sk-toggleable__label-arrow:before {content: \"▸\";float: left;margin-right: 0.25em;color: #696969;}#sk-container-id-1 label.sk-toggleable__label-arrow:hover:before {color: black;}#sk-container-id-1 div.sk-estimator:hover label.sk-toggleable__label-arrow:before {color: black;}#sk-container-id-1 div.sk-toggleable__content {max-height: 0;max-width: 0;overflow: hidden;text-align: left;background-color: #f0f8ff;}#sk-container-id-1 div.sk-toggleable__content pre {margin: 0.2em;color: black;border-radius: 0.25em;background-color: #f0f8ff;}#sk-container-id-1 input.sk-toggleable__control:checked~div.sk-toggleable__content {max-height: 200px;max-width: 100%;overflow: auto;}#sk-container-id-1 input.sk-toggleable__control:checked~label.sk-toggleable__label-arrow:before {content: \"▾\";}#sk-container-id-1 div.sk-estimator input.sk-toggleable__control:checked~label.sk-toggleable__label {background-color: #d4ebff;}#sk-container-id-1 div.sk-label input.sk-toggleable__control:checked~label.sk-toggleable__label {background-color: #d4ebff;}#sk-container-id-1 input.sk-hidden--visually {border: 0;clip: rect(1px 1px 1px 1px);clip: rect(1px, 1px, 1px, 1px);height: 1px;margin: -1px;overflow: hidden;padding: 0;position: absolute;width: 1px;}#sk-container-id-1 div.sk-estimator {font-family: monospace;background-color: #f0f8ff;border: 1px dotted black;border-radius: 0.25em;box-sizing: border-box;margin-bottom: 0.5em;}#sk-container-id-1 div.sk-estimator:hover {background-color: #d4ebff;}#sk-container-id-1 div.sk-parallel-item::after {content: \"\";width: 100%;border-bottom: 1px solid gray;flex-grow: 1;}#sk-container-id-1 div.sk-label:hover label.sk-toggleable__label {background-color: #d4ebff;}#sk-container-id-1 div.sk-serial::before {content: \"\";position: absolute;border-left: 1px solid gray;box-sizing: border-box;top: 0;bottom: 0;left: 50%;z-index: 0;}#sk-container-id-1 div.sk-serial {display: flex;flex-direction: column;align-items: center;background-color: white;padding-right: 0.2em;padding-left: 0.2em;position: relative;}#sk-container-id-1 div.sk-item {position: relative;z-index: 1;}#sk-container-id-1 div.sk-parallel {display: flex;align-items: stretch;justify-content: center;background-color: white;position: relative;}#sk-container-id-1 div.sk-item::before, #sk-container-id-1 div.sk-parallel-item::before {content: \"\";position: absolute;border-left: 1px solid gray;box-sizing: border-box;top: 0;bottom: 0;left: 50%;z-index: -1;}#sk-container-id-1 div.sk-parallel-item {display: flex;flex-direction: column;z-index: 1;position: relative;background-color: white;}#sk-container-id-1 div.sk-parallel-item:first-child::after {align-self: flex-end;width: 50%;}#sk-container-id-1 div.sk-parallel-item:last-child::after {align-self: flex-start;width: 50%;}#sk-container-id-1 div.sk-parallel-item:only-child::after {width: 0;}#sk-container-id-1 div.sk-dashed-wrapped {border: 1px dashed gray;margin: 0 0.4em 0.5em 0.4em;box-sizing: border-box;padding-bottom: 0.4em;background-color: white;}#sk-container-id-1 div.sk-label label {font-family: monospace;font-weight: bold;display: inline-block;line-height: 1.2em;}#sk-container-id-1 div.sk-label-container {text-align: center;}#sk-container-id-1 div.sk-container {/* jupyter's `normalize.less` sets `[hidden] { display: none; }` but bootstrap.min.css set `[hidden] { display: none !important; }` so we also need the `!important` here to be able to override the default hidden behavior on the sphinx rendered scikit-learn.org. See: https://github.com/scikit-learn/scikit-learn/issues/21755 */display: inline-block !important;position: relative;}#sk-container-id-1 div.sk-text-repr-fallback {display: none;}</style><div id=\"sk-container-id-1\" class=\"sk-top-container\"><div class=\"sk-text-repr-fallback\"><pre>LogisticRegression(max_iter=1000)</pre><b>In a Jupyter environment, please rerun this cell to show the HTML representation or trust the notebook. <br />On GitHub, the HTML representation is unable to render, please try loading this page with nbviewer.org.</b></div><div class=\"sk-container\" hidden><div class=\"sk-item\"><div class=\"sk-estimator sk-toggleable\"><input class=\"sk-toggleable__control sk-hidden--visually\" id=\"sk-estimator-id-1\" type=\"checkbox\" checked><label for=\"sk-estimator-id-1\" class=\"sk-toggleable__label sk-toggleable__label-arrow\">LogisticRegression</label><div class=\"sk-toggleable__content\"><pre>LogisticRegression(max_iter=1000)</pre></div></div></div></div></div>"
      ],
      "text/plain": [
       "LogisticRegression(max_iter=1000)"
      ]
     },
     "execution_count": 31,
     "metadata": {},
     "output_type": "execute_result"
    }
   ],
   "source": [
    "model.fit(X_train,y_train)"
   ]
  },
  {
   "cell_type": "markdown",
   "id": "987c5e61",
   "metadata": {
    "papermill": {
     "duration": 0.019306,
     "end_time": "2024-05-10T18:51:36.922301",
     "exception": false,
     "start_time": "2024-05-10T18:51:36.902995",
     "status": "completed"
    },
    "tags": []
   },
   "source": [
    "**Model Evaluation**"
   ]
  },
  {
   "cell_type": "code",
   "execution_count": 32,
   "id": "407cc89d",
   "metadata": {
    "execution": {
     "iopub.execute_input": "2024-05-10T18:51:36.963998Z",
     "iopub.status.busy": "2024-05-10T18:51:36.963501Z",
     "iopub.status.idle": "2024-05-10T18:51:37.234582Z",
     "shell.execute_reply": "2024-05-10T18:51:37.232908Z"
    },
    "papermill": {
     "duration": 0.296016,
     "end_time": "2024-05-10T18:51:37.237963",
     "exception": false,
     "start_time": "2024-05-10T18:51:36.941947",
     "status": "completed"
    },
    "tags": []
   },
   "outputs": [],
   "source": [
    "#accuracy score\n",
    "X_train_prediction = model.predict(X_train)\n",
    "training_data_accuracy = accuracy_score(y_train,X_train_prediction)"
   ]
  },
  {
   "cell_type": "code",
   "execution_count": 33,
   "id": "766971fa",
   "metadata": {
    "execution": {
     "iopub.execute_input": "2024-05-10T18:51:37.279149Z",
     "iopub.status.busy": "2024-05-10T18:51:37.278742Z",
     "iopub.status.idle": "2024-05-10T18:51:37.285441Z",
     "shell.execute_reply": "2024-05-10T18:51:37.283800Z"
    },
    "papermill": {
     "duration": 0.031193,
     "end_time": "2024-05-10T18:51:37.288632",
     "exception": false,
     "start_time": "2024-05-10T18:51:37.257439",
     "status": "completed"
    },
    "tags": []
   },
   "outputs": [
    {
     "name": "stdout",
     "output_type": "stream",
     "text": [
      "Accuracy score in the training data :  0.82156875\n"
     ]
    }
   ],
   "source": [
    "print('Accuracy score in the training data : ', training_data_accuracy)"
   ]
  },
  {
   "cell_type": "code",
   "execution_count": 34,
   "id": "67bf1bbd",
   "metadata": {
    "execution": {
     "iopub.execute_input": "2024-05-10T18:51:37.328658Z",
     "iopub.status.busy": "2024-05-10T18:51:37.328239Z",
     "iopub.status.idle": "2024-05-10T18:51:37.389176Z",
     "shell.execute_reply": "2024-05-10T18:51:37.387519Z"
    },
    "papermill": {
     "duration": 0.084445,
     "end_time": "2024-05-10T18:51:37.392102",
     "exception": false,
     "start_time": "2024-05-10T18:51:37.307657",
     "status": "completed"
    },
    "tags": []
   },
   "outputs": [],
   "source": [
    "#accuracy score on test data\n",
    "X_test_prediction = model.predict(X_test)\n",
    "test_data_accuracy = accuracy_score(y_test,X_test_prediction)"
   ]
  },
  {
   "cell_type": "code",
   "execution_count": 35,
   "id": "76964e6e",
   "metadata": {
    "execution": {
     "iopub.execute_input": "2024-05-10T18:51:37.433773Z",
     "iopub.status.busy": "2024-05-10T18:51:37.433365Z",
     "iopub.status.idle": "2024-05-10T18:51:37.439954Z",
     "shell.execute_reply": "2024-05-10T18:51:37.438674Z"
    },
    "papermill": {
     "duration": 0.031477,
     "end_time": "2024-05-10T18:51:37.443686",
     "exception": false,
     "start_time": "2024-05-10T18:51:37.412209",
     "status": "completed"
    },
    "tags": []
   },
   "outputs": [
    {
     "name": "stdout",
     "output_type": "stream",
     "text": [
      "Accuracy score in the test data by Logistic Regression:  0.79619375\n"
     ]
    }
   ],
   "source": [
    "print('Accuracy score in the test data by Logistic Regression: ', test_data_accuracy)"
   ]
  },
  {
   "cell_type": "markdown",
   "id": "939caaa9",
   "metadata": {
    "papermill": {
     "duration": 0.020242,
     "end_time": "2024-05-10T18:51:37.484398",
     "exception": false,
     "start_time": "2024-05-10T18:51:37.464156",
     "status": "completed"
    },
    "tags": []
   },
   "source": [
    "**Using model as Naive Bayes**"
   ]
  },
  {
   "cell_type": "code",
   "execution_count": 36,
   "id": "99c52d67",
   "metadata": {
    "execution": {
     "iopub.execute_input": "2024-05-10T18:51:37.527355Z",
     "iopub.status.busy": "2024-05-10T18:51:37.525605Z",
     "iopub.status.idle": "2024-05-10T18:51:38.073725Z",
     "shell.execute_reply": "2024-05-10T18:51:38.072353Z"
    },
    "papermill": {
     "duration": 0.572814,
     "end_time": "2024-05-10T18:51:38.076808",
     "exception": false,
     "start_time": "2024-05-10T18:51:37.503994",
     "status": "completed"
    },
    "tags": []
   },
   "outputs": [
    {
     "name": "stdout",
     "output_type": "stream",
     "text": [
      "Accuracy score in the test data by Naive Bayes :  0.79619375\n"
     ]
    }
   ],
   "source": [
    "from sklearn.naive_bayes import MultinomialNB\n",
    "clf = MultinomialNB()\n",
    "clf.fit(X_train,y_train)\n",
    "X_test_prediction = model.predict(X_test)\n",
    "test_data_accuracy = accuracy_score(y_test,X_test_prediction)\n",
    "print('Accuracy score in the test data by Naive Bayes : ', test_data_accuracy)"
   ]
  },
  {
   "cell_type": "markdown",
   "id": "98e3cc82",
   "metadata": {
    "papermill": {
     "duration": 0.019753,
     "end_time": "2024-05-10T18:51:38.118523",
     "exception": false,
     "start_time": "2024-05-10T18:51:38.098770",
     "status": "completed"
    },
    "tags": []
   },
   "source": [
    "**Confusion_Matrix**"
   ]
  },
  {
   "cell_type": "code",
   "execution_count": 37,
   "id": "850874cb",
   "metadata": {
    "execution": {
     "iopub.execute_input": "2024-05-10T18:51:38.161320Z",
     "iopub.status.busy": "2024-05-10T18:51:38.160893Z",
     "iopub.status.idle": "2024-05-10T18:51:38.502689Z",
     "shell.execute_reply": "2024-05-10T18:51:38.501674Z"
    },
    "papermill": {
     "duration": 0.365624,
     "end_time": "2024-05-10T18:51:38.505118",
     "exception": false,
     "start_time": "2024-05-10T18:51:38.139494",
     "status": "completed"
    },
    "tags": []
   },
   "outputs": [
    {
     "data": {
      "image/png": "[encoded data removed]",
      "text/plain": [
       "<Figure size 500x400 with 2 Axes>"
      ]
     },
     "metadata": {},
     "output_type": "display_data"
    }
   ],
   "source": [
    "cm = confusion_matrix(y_test,X_test_prediction)\n",
    "plt.figure(figsize=(5,4))\n",
    "sns.heatmap(cm,annot=True,fmt='d')\n",
    "plt.title('Test Confusion Matrix')\n",
    "plt.show()"
   ]
  },
  {
   "cell_type": "markdown",
   "id": "5f4f3495",
   "metadata": {
    "papermill": {
     "duration": 0.019981,
     "end_time": "2024-05-10T18:51:38.545757",
     "exception": false,
     "start_time": "2024-05-10T18:51:38.525776",
     "status": "completed"
    },
    "tags": []
   },
   "source": [
    "**Savig this trained model**"
   ]
  },
  {
   "cell_type": "code",
   "execution_count": 38,
   "id": "271722b6",
   "metadata": {
    "execution": {
     "iopub.execute_input": "2024-05-10T18:51:38.589504Z",
     "iopub.status.busy": "2024-05-10T18:51:38.588418Z",
     "iopub.status.idle": "2024-05-10T18:51:38.592886Z",
     "shell.execute_reply": "2024-05-10T18:51:38.592103Z"
    },
    "papermill": {
     "duration": 0.028846,
     "end_time": "2024-05-10T18:51:38.595231",
     "exception": false,
     "start_time": "2024-05-10T18:51:38.566385",
     "status": "completed"
    },
    "tags": []
   },
   "outputs": [],
   "source": [
    "import pickle"
   ]
  },
  {
   "cell_type": "code",
   "execution_count": 39,
   "id": "1975da85",
   "metadata": {
    "execution": {
     "iopub.execute_input": "2024-05-10T18:51:38.639672Z",
     "iopub.status.busy": "2024-05-10T18:51:38.638494Z",
     "iopub.status.idle": "2024-05-10T18:51:38.648148Z",
     "shell.execute_reply": "2024-05-10T18:51:38.647195Z"
    },
    "papermill": {
     "duration": 0.034633,
     "end_time": "2024-05-10T18:51:38.651047",
     "exception": false,
     "start_time": "2024-05-10T18:51:38.616414",
     "status": "completed"
    },
    "tags": []
   },
   "outputs": [],
   "source": [
    "filename = 'trained_model.sav'\n",
    "pickle.dump(model,open(filename,'wb'))#r-only read, w-write and b-binary form"
   ]
  },
  {
   "cell_type": "markdown",
   "id": "0ebb3e33",
   "metadata": {
    "papermill": {
     "duration": 0.020915,
     "end_time": "2024-05-10T18:51:38.692664",
     "exception": false,
     "start_time": "2024-05-10T18:51:38.671749",
     "status": "completed"
    },
    "tags": []
   },
   "source": [
    "**Using the saved model**"
   ]
  },
  {
   "cell_type": "code",
   "execution_count": 40,
   "id": "26c9ca59",
   "metadata": {
    "execution": {
     "iopub.execute_input": "2024-05-10T18:51:38.737207Z",
     "iopub.status.busy": "2024-05-10T18:51:38.735947Z",
     "iopub.status.idle": "2024-05-10T18:51:38.743220Z",
     "shell.execute_reply": "2024-05-10T18:51:38.742256Z"
    },
    "papermill": {
     "duration": 0.032512,
     "end_time": "2024-05-10T18:51:38.746154",
     "exception": false,
     "start_time": "2024-05-10T18:51:38.713642",
     "status": "completed"
    },
    "tags": []
   },
   "outputs": [],
   "source": [
    "#loading the saved model\n",
    "loaded_model = pickle.load(open('/kaggle/working/trained_model.sav','rb'))"
   ]
  },
  {
   "cell_type": "code",
   "execution_count": 41,
   "id": "51de6ee2",
   "metadata": {
    "execution": {
     "iopub.execute_input": "2024-05-10T18:51:38.791236Z",
     "iopub.status.busy": "2024-05-10T18:51:38.789769Z",
     "iopub.status.idle": "2024-05-10T18:51:38.799841Z",
     "shell.execute_reply": "2024-05-10T18:51:38.798711Z"
    },
    "papermill": {
     "duration": 0.035315,
     "end_time": "2024-05-10T18:51:38.802385",
     "exception": false,
     "start_time": "2024-05-10T18:51:38.767070",
     "status": "completed"
    },
    "tags": []
   },
   "outputs": [
    {
     "name": "stdout",
     "output_type": "stream",
     "text": [
      "0\n",
      "[0]\n",
      "Negative tweet\n"
     ]
    }
   ],
   "source": [
    "X_new =X_test[200]\n",
    "print(y_test[200])\n",
    "prediction = loaded_model.predict(X_new)\n",
    "print(prediction)\n",
    "\n",
    "if(prediction[0] == 0):\n",
    "    print('Negative tweet')\n",
    "else:\n",
    "    print('Positive tweet')"
   ]
  },
  {
   "cell_type": "code",
   "execution_count": 42,
   "id": "02594817",
   "metadata": {
    "execution": {
     "iopub.execute_input": "2024-05-10T18:51:38.846113Z",
     "iopub.status.busy": "2024-05-10T18:51:38.845436Z",
     "iopub.status.idle": "2024-05-10T18:51:38.852869Z",
     "shell.execute_reply": "2024-05-10T18:51:38.851620Z"
    },
    "papermill": {
     "duration": 0.031841,
     "end_time": "2024-05-10T18:51:38.855190",
     "exception": false,
     "start_time": "2024-05-10T18:51:38.823349",
     "status": "completed"
    },
    "tags": []
   },
   "outputs": [
    {
     "name": "stdout",
     "output_type": "stream",
     "text": [
      "1\n",
      "[1]\n",
      "Positive tweet\n"
     ]
    }
   ],
   "source": [
    "X_new =X_test[34]\n",
    "print(y_test[34])\n",
    "prediction = loaded_model.predict(X_new)\n",
    "print(prediction)\n",
    "\n",
    "if(prediction[0] == 0):\n",
    "    print('Negative tweet')\n",
    "else:\n",
    "    print('Positive tweet')"
   ]
  },
  {
   "cell_type": "code",
   "execution_count": null,
   "id": "fe7180b0",
   "metadata": {
    "papermill": {
     "duration": 0.020138,
     "end_time": "2024-05-10T18:51:38.896562",
     "exception": false,
     "start_time": "2024-05-10T18:51:38.876424",
     "status": "completed"
    },
    "tags": []
   },
   "outputs": [],
   "source": []
  }
 ],
 "metadata": {
  "kaggle": {
   "accelerator": "none",
   "dataSources": [
    {
     "datasetId": 3139808,
     "sourceId": 5424665,
     "sourceType": "datasetVersion"
    }
   ],
   "dockerImageVersionId": 30698,
   "isGpuEnabled": false,
   "isInternetEnabled": true,
   "language": "python",
   "sourceType": "notebook"
  },
  "kernelspec": {
   "display_name": "Python 3",
   "language": "python",
   "name": "python3"
  },
  "language_info": {
   "codemirror_mode": {
    "name": "ipython",
    "version": 3
   },
   "file_extension": ".py",
   "mimetype": "text/x-python",
   "name": "python",
   "nbconvert_exporter": "python",
   "pygments_lexer": "ipython3",
   "version": "3.10.13"
  },
  "papermill": {
   "default_parameters": {},
   "duration": 989.039306,
   "end_time": "2024-05-10T18:51:40.249689",
   "environment_variables": {},
   "exception": null,
   "input_path": "__notebook__.ipynb",
   "output_path": "__notebook__.ipynb",
   "parameters": {},
   "start_time": "2024-05-10T18:35:11.210383",
   "version": "2.5.0"
  },
  "widgets": {
   "application/vnd.jupyter.widget-state+json": {
    "state": {
     "008a70ca6a5443fb9f15835bd7bf8dbb": {
      "model_module": "@jupyter-widgets/controls",
      "model_module_version": "1.5.0",
      "model_name": "ProgressStyleModel",
      "state": {
       "_model_module": "@jupyter-widgets/controls",
       "_model_module_version": "1.5.0",
       "_model_name": "ProgressStyleModel",
       "_view_count": null,
       "_view_module": "@jupyter-widgets/base",
       "_view_module_version": "1.2.0",
       "_view_name": "StyleView",
       "bar_color": null,
       "description_width": ""
      }
     },
     "07b12d4977e147e0bfc3b004637dfd6b": {
      "model_module": "@jupyter-widgets/base",
      "model_module_version": "1.2.0",
      "model_name": "LayoutModel",
      "state": {
       "_model_module": "@jupyter-widgets/base",
       "_model_module_version": "1.2.0",
       "_model_name": "LayoutModel",
       "_view_count": null,
       "_view_module": "@jupyter-widgets/base",
       "_view_module_version": "1.2.0",
       "_view_name": "LayoutView",
       "align_content": null,
       "align_items": null,
       "align_self": null,
       "border": null,
       "bottom": null,
       "display": null,
       "flex": null,
       "flex_flow": null,
       "grid_area": null,
       "grid_auto_columns": null,
       "grid_auto_flow": null,
       "grid_auto_rows": null,
       "grid_column": null,
       "grid_gap": null,
       "grid_row": null,
       "grid_template_areas": null,
       "grid_template_columns": null,
       "grid_template_rows": null,
       "height": null,
       "justify_content": null,
       "justify_items": null,
       "left": null,
       "margin": null,
       "max_height": null,
       "max_width": null,
       "min_height": null,
       "min_width": null,
       "object_fit": null,
       "object_position": null,
       "order": null,
       "overflow": null,
       "overflow_x": null,
       "overflow_y": null,
       "padding": null,
       "right": null,
       "top": null,
       "visibility": null,
       "width": null
      }
     },
     "2134c8fd20fd4bb2883518df764b336c": {
      "model_module": "@jupyter-widgets/base",
      "model_module_version": "1.2.0",
      "model_name": "LayoutModel",
      "state": {
       "_model_module": "@jupyter-widgets/base",
       "_model_module_version": "1.2.0",
       "_model_name": "LayoutModel",
       "_view_count": null,
       "_view_module": "@jupyter-widgets/base",
       "_view_module_version": "1.2.0",
       "_view_name": "LayoutView",
       "align_content": null,
       "align_items": null,
       "align_self": null,
       "border": null,
       "bottom": null,
       "display": null,
       "flex": null,
       "flex_flow": null,
       "grid_area": null,
       "grid_auto_columns": null,
       "grid_auto_flow": null,
       "grid_auto_rows": null,
       "grid_column": null,
       "grid_gap": null,
       "grid_row": null,
       "grid_template_areas": null,
       "grid_template_columns": null,
       "grid_template_rows": null,
       "height": null,
       "justify_content": null,
       "justify_items": null,
       "left": null,
       "margin": null,
       "max_height": null,
       "max_width": null,
       "min_height": null,
       "min_width": null,
       "object_fit": null,
       "object_position": null,
       "order": null,
       "overflow": null,
       "overflow_x": null,
       "overflow_y": null,
       "padding": null,
       "right": null,
       "top": null,
       "visibility": null,
       "width": null
      }
     },
     "24a2c2ff295c46118f4c2f28c31dfcaa": {
      "model_module": "@jupyter-widgets/controls",
      "model_module_version": "1.5.0",
      "model_name": "DescriptionStyleModel",
      "state": {
       "_model_module": "@jupyter-widgets/controls",
       "_model_module_version": "1.5.0",
       "_model_name": "DescriptionStyleModel",
       "_view_count": null,
       "_view_module": "@jupyter-widgets/base",
       "_view_module_version": "1.2.0",
       "_view_name": "StyleView",
       "description_width": ""
      }
     },
     "6344a1bfc3764691a3aabfae9477b0e3": {
      "model_module": "@jupyter-widgets/controls",
      "model_module_version": "1.5.0",
      "model_name": "FloatProgressModel",
      "state": {
       "_dom_classes": [],
       "_model_module": "@jupyter-widgets/controls",
       "_model_module_version": "1.5.0",
       "_model_name": "FloatProgressModel",
       "_view_count": null,
       "_view_module": "@jupyter-widgets/controls",
       "_view_module_version": "1.5.0",
       "_view_name": "ProgressView",
       "bar_style": "success",
       "description": "",
       "description_tooltip": null,
       "layout": "IPY_MODEL_751b1e4484bd46e6b383c588326701be",
       "max": 1600000.0,
       "min": 0.0,
       "orientation": "horizontal",
       "style": "IPY_MODEL_008a70ca6a5443fb9f15835bd7bf8dbb",
       "value": 1600000.0
      }
     },
     "751b1e4484bd46e6b383c588326701be": {
      "model_module": "@jupyter-widgets/base",
      "model_module_version": "1.2.0",
      "model_name": "LayoutModel",
      "state": {
       "_model_module": "@jupyter-widgets/base",
       "_model_module_version": "1.2.0",
       "_model_name": "LayoutModel",
       "_view_count": null,
       "_view_module": "@jupyter-widgets/base",
       "_view_module_version": "1.2.0",
       "_view_name": "LayoutView",
       "align_content": null,
       "align_items": null,
       "align_self": null,
       "border": null,
       "bottom": null,
       "display": null,
       "flex": null,
       "flex_flow": null,
       "grid_area": null,
       "grid_auto_columns": null,
       "grid_auto_flow": null,
       "grid_auto_rows": null,
       "grid_column": null,
       "grid_gap": null,
       "grid_row": null,
       "grid_template_areas": null,
       "grid_template_columns": null,
       "grid_template_rows": null,
       "height": null,
       "justify_content": null,
       "justify_items": null,
       "left": null,
       "margin": null,
       "max_height": null,
       "max_width": null,
       "min_height": null,
       "min_width": null,
       "object_fit": null,
       "object_position": null,
       "order": null,
       "overflow": null,
       "overflow_x": null,
       "overflow_y": null,
       "padding": null,
       "right": null,
       "top": null,
       "visibility": null,
       "width": null
      }
     },
     "8627a2fd354d494c8f79a3da76304cb9": {
      "model_module": "@jupyter-widgets/base",
      "model_module_version": "1.2.0",
      "model_name": "LayoutModel",
      "state": {
       "_model_module": "@jupyter-widgets/base",
       "_model_module_version": "1.2.0",
       "_model_name": "LayoutModel",
       "_view_count": null,
       "_view_module": "@jupyter-widgets/base",
       "_view_module_version": "1.2.0",
       "_view_name": "LayoutView",
       "align_content": null,
       "align_items": null,
       "align_self": null,
       "border": null,
       "bottom": null,
       "display": null,
       "flex": null,
       "flex_flow": null,
       "grid_area": null,
       "grid_auto_columns": null,
       "grid_auto_flow": null,
       "grid_auto_rows": null,
       "grid_column": null,
       "grid_gap": null,
       "grid_row": null,
       "grid_template_areas": null,
       "grid_template_columns": null,
       "grid_template_rows": null,
       "height": null,
       "justify_content": null,
       "justify_items": null,
       "left": null,
       "margin": null,
       "max_height": null,
       "max_width": null,
       "min_height": null,
       "min_width": null,
       "object_fit": null,
       "object_position": null,
       "order": null,
       "overflow": null,
       "overflow_x": null,
       "overflow_y": null,
       "padding": null,
       "right": null,
       "top": null,
       "visibility": null,
       "width": null
      }
     },
     "a688231d35f244228f2741c9bf86640b": {
      "model_module": "@jupyter-widgets/controls",
      "model_module_version": "1.5.0",
      "model_name": "HTMLModel",
      "state": {
       "_dom_classes": [],
       "_model_module": "@jupyter-widgets/controls",
       "_model_module_version": "1.5.0",
       "_model_name": "HTMLModel",
       "_view_count": null,
       "_view_module": "@jupyter-widgets/controls",
       "_view_module_version": "1.5.0",
       "_view_name": "HTMLView",
       "description": "",
       "description_tooltip": null,
       "layout": "IPY_MODEL_07b12d4977e147e0bfc3b004637dfd6b",
       "placeholder": "​",
       "style": "IPY_MODEL_24a2c2ff295c46118f4c2f28c31dfcaa",
       "value": "100%"
      }
     },
     "f502b549eb514ab9bf7c10f459c70d56": {
      "model_module": "@jupyter-widgets/controls",
      "model_module_version": "1.5.0",
      "model_name": "HTMLModel",
      "state": {
       "_dom_classes": [],
       "_model_module": "@jupyter-widgets/controls",
       "_model_module_version": "1.5.0",
       "_model_name": "HTMLModel",
       "_view_count": null,
       "_view_module": "@jupyter-widgets/controls",
       "_view_module_version": "1.5.0",
       "_view_name": "HTMLView",
       "description": "",
       "description_tooltip": null,
       "layout": "IPY_MODEL_8627a2fd354d494c8f79a3da76304cb9",
       "placeholder": "​",
       "style": "IPY_MODEL_fbaddfe6c3ea43a5b70c2e902b890351",
       "value": " 1600000/1600000 [11:37&lt;00:00, 2364.57it/s]"
      }
     },
     "fbaddfe6c3ea43a5b70c2e902b890351": {
      "model_module": "@jupyter-widgets/controls",
      "model_module_version": "1.5.0",
      "model_name": "DescriptionStyleModel",
      "state": {
       "_model_module": "@jupyter-widgets/controls",
       "_model_module_version": "1.5.0",
       "_model_name": "DescriptionStyleModel",
       "_view_count": null,
       "_view_module": "@jupyter-widgets/base",
       "_view_module_version": "1.2.0",
       "_view_name": "StyleView",
       "description_width": ""
      }
     },
     "fc147041ad354e9d8a5ea94a3b806261": {
      "model_module": "@jupyter-widgets/controls",
      "model_module_version": "1.5.0",
      "model_name": "HBoxModel",
      "state": {
       "_dom_classes": [],
       "_model_module": "@jupyter-widgets/controls",
       "_model_module_version": "1.5.0",
       "_model_name": "HBoxModel",
       "_view_count": null,
       "_view_module": "@jupyter-widgets/controls",
       "_view_module_version": "1.5.0",
       "_view_name": "HBoxView",
       "box_style": "",
       "children": [
        "IPY_MODEL_a688231d35f244228f2741c9bf86640b",
        "IPY_MODEL_6344a1bfc3764691a3aabfae9477b0e3",
        "IPY_MODEL_f502b549eb514ab9bf7c10f459c70d56"
       ],
       "layout": "IPY_MODEL_2134c8fd20fd4bb2883518df764b336c"
      }
     }
    },
    "version_major": 2,
    "version_minor": 0
   }
  }
 },
 "nbformat": 4,
 "nbformat_minor": 5
}
