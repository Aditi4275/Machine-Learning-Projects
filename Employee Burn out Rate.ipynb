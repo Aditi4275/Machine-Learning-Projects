{
 "cells": [
  {
   "cell_type": "code",
   "execution_count": 1,
   "id": "6c582f79",
   "metadata": {},
   "outputs": [],
   "source": [
    "import pandas as pd\n",
    "import numpy as np\n",
    "import matplotlib.pyplot as plt\n",
    "import seaborn as sn\n",
    "from sklearn.compose import ColumnTransformer\n",
    "from sklearn.preprocessing import OneHotEncoder\n",
    "from sklearn.pipeline import Pipeline\n",
    "from sklearn.compose import make_column_selector as selector\n",
    "from sklearn.linear_model import LinearRegression\n",
    "from sklearn.model_selection import train_test_split\n",
    "from sklearn.metrics import accuracy_score\n",
    "from sklearn.metrics import r2_score"
   ]
  },
  {
   "cell_type": "code",
   "execution_count": 2,
   "id": "b7ed03ff",
   "metadata": {},
   "outputs": [],
   "source": [
    "df = pd.read_csv(\"employee_train.csv\")"
   ]
  },
  {
   "cell_type": "code",
   "execution_count": 3,
   "id": "0deb1770",
   "metadata": {},
   "outputs": [
    {
     "data": {
      "text/html": [
       "<div>\n",
       "<style scoped>\n",
       "    .dataframe tbody tr th:only-of-type {\n",
       "        vertical-align: middle;\n",
       "    }\n",
       "\n",
       "    .dataframe tbody tr th {\n",
       "        vertical-align: top;\n",
       "    }\n",
       "\n",
       "    .dataframe thead th {\n",
       "        text-align: right;\n",
       "    }\n",
       "</style>\n",
       "<table border=\"1\" class=\"dataframe\">\n",
       "  <thead>\n",
       "    <tr style=\"text-align: right;\">\n",
       "      <th></th>\n",
       "      <th>Employee ID</th>\n",
       "      <th>Date of Joining</th>\n",
       "      <th>Gender</th>\n",
       "      <th>Company Type</th>\n",
       "      <th>WFH Setup Available</th>\n",
       "      <th>Designation</th>\n",
       "      <th>Resource Allocation</th>\n",
       "      <th>Mental Fatigue Score</th>\n",
       "      <th>Burn Rate</th>\n",
       "    </tr>\n",
       "  </thead>\n",
       "  <tbody>\n",
       "    <tr>\n",
       "      <th>0</th>\n",
       "      <td>fffe32003000360033003200</td>\n",
       "      <td>2008-09-30</td>\n",
       "      <td>Female</td>\n",
       "      <td>Service</td>\n",
       "      <td>No</td>\n",
       "      <td>2.0</td>\n",
       "      <td>3.0</td>\n",
       "      <td>3.8</td>\n",
       "      <td>0.16</td>\n",
       "    </tr>\n",
       "    <tr>\n",
       "      <th>1</th>\n",
       "      <td>fffe3700360033003500</td>\n",
       "      <td>2008-11-30</td>\n",
       "      <td>Male</td>\n",
       "      <td>Service</td>\n",
       "      <td>Yes</td>\n",
       "      <td>1.0</td>\n",
       "      <td>2.0</td>\n",
       "      <td>5.0</td>\n",
       "      <td>0.36</td>\n",
       "    </tr>\n",
       "    <tr>\n",
       "      <th>2</th>\n",
       "      <td>fffe31003300320037003900</td>\n",
       "      <td>2008-03-10</td>\n",
       "      <td>Female</td>\n",
       "      <td>Product</td>\n",
       "      <td>Yes</td>\n",
       "      <td>2.0</td>\n",
       "      <td>NaN</td>\n",
       "      <td>5.8</td>\n",
       "      <td>0.49</td>\n",
       "    </tr>\n",
       "    <tr>\n",
       "      <th>3</th>\n",
       "      <td>fffe32003400380032003900</td>\n",
       "      <td>2008-11-03</td>\n",
       "      <td>Male</td>\n",
       "      <td>Service</td>\n",
       "      <td>Yes</td>\n",
       "      <td>1.0</td>\n",
       "      <td>1.0</td>\n",
       "      <td>2.6</td>\n",
       "      <td>0.20</td>\n",
       "    </tr>\n",
       "    <tr>\n",
       "      <th>4</th>\n",
       "      <td>fffe31003900340031003600</td>\n",
       "      <td>2008-07-24</td>\n",
       "      <td>Female</td>\n",
       "      <td>Service</td>\n",
       "      <td>No</td>\n",
       "      <td>3.0</td>\n",
       "      <td>7.0</td>\n",
       "      <td>6.9</td>\n",
       "      <td>0.52</td>\n",
       "    </tr>\n",
       "  </tbody>\n",
       "</table>\n",
       "</div>"
      ],
      "text/plain": [
       "                Employee ID Date of Joining  Gender Company Type  \\\n",
       "0  fffe32003000360033003200      2008-09-30  Female      Service   \n",
       "1      fffe3700360033003500      2008-11-30    Male      Service   \n",
       "2  fffe31003300320037003900      2008-03-10  Female      Product   \n",
       "3  fffe32003400380032003900      2008-11-03    Male      Service   \n",
       "4  fffe31003900340031003600      2008-07-24  Female      Service   \n",
       "\n",
       "  WFH Setup Available  Designation  Resource Allocation  Mental Fatigue Score  \\\n",
       "0                  No          2.0                  3.0                   3.8   \n",
       "1                 Yes          1.0                  2.0                   5.0   \n",
       "2                 Yes          2.0                  NaN                   5.8   \n",
       "3                 Yes          1.0                  1.0                   2.6   \n",
       "4                  No          3.0                  7.0                   6.9   \n",
       "\n",
       "   Burn Rate  \n",
       "0       0.16  \n",
       "1       0.36  \n",
       "2       0.49  \n",
       "3       0.20  \n",
       "4       0.52  "
      ]
     },
     "execution_count": 3,
     "metadata": {},
     "output_type": "execute_result"
    }
   ],
   "source": [
    "df.head()"
   ]
  },
  {
   "cell_type": "markdown",
   "id": "dc492a97",
   "metadata": {},
   "source": [
    "# EDA"
   ]
  },
  {
   "cell_type": "code",
   "execution_count": 4,
   "id": "ff9308a3",
   "metadata": {},
   "outputs": [
    {
     "data": {
      "text/plain": [
       "(22750, 9)"
      ]
     },
     "execution_count": 4,
     "metadata": {},
     "output_type": "execute_result"
    }
   ],
   "source": [
    "df.shape"
   ]
  },
  {
   "cell_type": "code",
   "execution_count": 5,
   "id": "c6993028",
   "metadata": {
    "scrolled": true
   },
   "outputs": [
    {
     "name": "stdout",
     "output_type": "stream",
     "text": [
      "<class 'pandas.core.frame.DataFrame'>\n",
      "RangeIndex: 22750 entries, 0 to 22749\n",
      "Data columns (total 9 columns):\n",
      " #   Column                Non-Null Count  Dtype  \n",
      "---  ------                --------------  -----  \n",
      " 0   Employee ID           22750 non-null  object \n",
      " 1   Date of Joining       22750 non-null  object \n",
      " 2   Gender                22750 non-null  object \n",
      " 3   Company Type          22750 non-null  object \n",
      " 4   WFH Setup Available   22750 non-null  object \n",
      " 5   Designation           22750 non-null  float64\n",
      " 6   Resource Allocation   21369 non-null  float64\n",
      " 7   Mental Fatigue Score  20633 non-null  float64\n",
      " 8   Burn Rate             21626 non-null  float64\n",
      "dtypes: float64(4), object(5)\n",
      "memory usage: 1.6+ MB\n"
     ]
    }
   ],
   "source": [
    "df.info()"
   ]
  },
  {
   "cell_type": "code",
   "execution_count": 6,
   "id": "eb16cb25",
   "metadata": {},
   "outputs": [
    {
     "data": {
      "text/html": [
       "<div>\n",
       "<style scoped>\n",
       "    .dataframe tbody tr th:only-of-type {\n",
       "        vertical-align: middle;\n",
       "    }\n",
       "\n",
       "    .dataframe tbody tr th {\n",
       "        vertical-align: top;\n",
       "    }\n",
       "\n",
       "    .dataframe thead th {\n",
       "        text-align: right;\n",
       "    }\n",
       "</style>\n",
       "<table border=\"1\" class=\"dataframe\">\n",
       "  <thead>\n",
       "    <tr style=\"text-align: right;\">\n",
       "      <th></th>\n",
       "      <th>Designation</th>\n",
       "      <th>Resource Allocation</th>\n",
       "      <th>Mental Fatigue Score</th>\n",
       "      <th>Burn Rate</th>\n",
       "    </tr>\n",
       "  </thead>\n",
       "  <tbody>\n",
       "    <tr>\n",
       "      <th>count</th>\n",
       "      <td>22750.000000</td>\n",
       "      <td>21369.000000</td>\n",
       "      <td>20633.000000</td>\n",
       "      <td>21626.000000</td>\n",
       "    </tr>\n",
       "    <tr>\n",
       "      <th>mean</th>\n",
       "      <td>2.178725</td>\n",
       "      <td>4.481398</td>\n",
       "      <td>5.728188</td>\n",
       "      <td>0.452005</td>\n",
       "    </tr>\n",
       "    <tr>\n",
       "      <th>std</th>\n",
       "      <td>1.135145</td>\n",
       "      <td>2.047211</td>\n",
       "      <td>1.920839</td>\n",
       "      <td>0.198226</td>\n",
       "    </tr>\n",
       "    <tr>\n",
       "      <th>min</th>\n",
       "      <td>0.000000</td>\n",
       "      <td>1.000000</td>\n",
       "      <td>0.000000</td>\n",
       "      <td>0.000000</td>\n",
       "    </tr>\n",
       "    <tr>\n",
       "      <th>25%</th>\n",
       "      <td>1.000000</td>\n",
       "      <td>3.000000</td>\n",
       "      <td>4.600000</td>\n",
       "      <td>0.310000</td>\n",
       "    </tr>\n",
       "    <tr>\n",
       "      <th>50%</th>\n",
       "      <td>2.000000</td>\n",
       "      <td>4.000000</td>\n",
       "      <td>5.900000</td>\n",
       "      <td>0.450000</td>\n",
       "    </tr>\n",
       "    <tr>\n",
       "      <th>75%</th>\n",
       "      <td>3.000000</td>\n",
       "      <td>6.000000</td>\n",
       "      <td>7.100000</td>\n",
       "      <td>0.590000</td>\n",
       "    </tr>\n",
       "    <tr>\n",
       "      <th>max</th>\n",
       "      <td>5.000000</td>\n",
       "      <td>10.000000</td>\n",
       "      <td>10.000000</td>\n",
       "      <td>1.000000</td>\n",
       "    </tr>\n",
       "  </tbody>\n",
       "</table>\n",
       "</div>"
      ],
      "text/plain": [
       "        Designation  Resource Allocation  Mental Fatigue Score     Burn Rate\n",
       "count  22750.000000         21369.000000          20633.000000  21626.000000\n",
       "mean       2.178725             4.481398              5.728188      0.452005\n",
       "std        1.135145             2.047211              1.920839      0.198226\n",
       "min        0.000000             1.000000              0.000000      0.000000\n",
       "25%        1.000000             3.000000              4.600000      0.310000\n",
       "50%        2.000000             4.000000              5.900000      0.450000\n",
       "75%        3.000000             6.000000              7.100000      0.590000\n",
       "max        5.000000            10.000000             10.000000      1.000000"
      ]
     },
     "execution_count": 6,
     "metadata": {},
     "output_type": "execute_result"
    }
   ],
   "source": [
    "df.describe()"
   ]
  },
  {
   "cell_type": "code",
   "execution_count": 7,
   "id": "3fa3e89f",
   "metadata": {},
   "outputs": [
    {
     "data": {
      "text/plain": [
       "Employee ID                0\n",
       "Date of Joining            0\n",
       "Gender                     0\n",
       "Company Type               0\n",
       "WFH Setup Available        0\n",
       "Designation                0\n",
       "Resource Allocation     1381\n",
       "Mental Fatigue Score    2117\n",
       "Burn Rate               1124\n",
       "dtype: int64"
      ]
     },
     "execution_count": 7,
     "metadata": {},
     "output_type": "execute_result"
    }
   ],
   "source": [
    "df.isnull().sum()"
   ]
  },
  {
   "cell_type": "code",
   "execution_count": 8,
   "id": "3cd69906",
   "metadata": {},
   "outputs": [],
   "source": [
    "df.dropna(subset=['Burn Rate'],inplace = True)"
   ]
  },
  {
   "cell_type": "code",
   "execution_count": 9,
   "id": "120d861a",
   "metadata": {},
   "outputs": [
    {
     "data": {
      "text/plain": [
       "Employee ID                0\n",
       "Date of Joining            0\n",
       "Gender                     0\n",
       "Company Type               0\n",
       "WFH Setup Available        0\n",
       "Designation                0\n",
       "Resource Allocation     1278\n",
       "Mental Fatigue Score    1945\n",
       "Burn Rate                  0\n",
       "dtype: int64"
      ]
     },
     "execution_count": 9,
     "metadata": {},
     "output_type": "execute_result"
    }
   ],
   "source": [
    "df.isnull().sum()"
   ]
  },
  {
   "cell_type": "code",
   "execution_count": 10,
   "id": "0ad11445",
   "metadata": {},
   "outputs": [],
   "source": [
    "df.dropna(subset=['Mental Fatigue Score','Resource Allocation'],inplace = True)"
   ]
  },
  {
   "cell_type": "code",
   "execution_count": 11,
   "id": "52961cd5",
   "metadata": {},
   "outputs": [
    {
     "data": {
      "text/plain": [
       "Employee ID             0\n",
       "Date of Joining         0\n",
       "Gender                  0\n",
       "Company Type            0\n",
       "WFH Setup Available     0\n",
       "Designation             0\n",
       "Resource Allocation     0\n",
       "Mental Fatigue Score    0\n",
       "Burn Rate               0\n",
       "dtype: int64"
      ]
     },
     "execution_count": 11,
     "metadata": {},
     "output_type": "execute_result"
    }
   ],
   "source": [
    "df.isnull().sum()"
   ]
  },
  {
   "cell_type": "code",
   "execution_count": 12,
   "id": "12f86fcd",
   "metadata": {},
   "outputs": [
    {
     "data": {
      "text/plain": [
       "(18590, 9)"
      ]
     },
     "execution_count": 12,
     "metadata": {},
     "output_type": "execute_result"
    }
   ],
   "source": [
    "df.shape"
   ]
  },
  {
   "cell_type": "code",
   "execution_count": 13,
   "id": "ee829a6c",
   "metadata": {},
   "outputs": [
    {
     "data": {
      "text/plain": [
       "Company Type\n",
       "Service    12174\n",
       "Product     6416\n",
       "Name: count, dtype: int64"
      ]
     },
     "execution_count": 13,
     "metadata": {},
     "output_type": "execute_result"
    }
   ],
   "source": [
    "company_count = df['Company Type'].value_counts()\n",
    "company_count"
   ]
  },
  {
   "cell_type": "code",
   "execution_count": 14,
   "id": "0a60c56b",
   "metadata": {},
   "outputs": [
    {
     "data": {
      "text/plain": [
       "Designation\n",
       "2.0    6214\n",
       "3.0    4920\n",
       "1.0    3954\n",
       "4.0    1947\n",
       "0.0    1238\n",
       "5.0     317\n",
       "Name: count, dtype: int64"
      ]
     },
     "execution_count": 14,
     "metadata": {},
     "output_type": "execute_result"
    }
   ],
   "source": [
    "designation_count = df['Designation'].value_counts()\n",
    "designation_count"
   ]
  },
  {
   "cell_type": "code",
   "execution_count": 15,
   "id": "cdae6ac7",
   "metadata": {},
   "outputs": [
    {
     "data": {
      "image/png": "[encoded data removed]",
      "text/plain": [
       "<Figure size 640x480 with 1 Axes>"
      ]
     },
     "metadata": {},
     "output_type": "display_data"
    }
   ],
   "source": [
    "fig,ax = plt.subplots()\n",
    "designation_count.plot(kind='pie',ax=ax,autopct='%1.1f%%',legend = True)\n",
    "ax.legend(loc='center left',bbox_to_anchor=(1.1,0.5))\n",
    "plt.title('Designation Distribution')\n",
    "plt.ylabel(' ')\n",
    "plt.show()"
   ]
  },
  {
   "cell_type": "code",
   "execution_count": 16,
   "id": "48a72846",
   "metadata": {},
   "outputs": [
    {
     "data": {
      "text/plain": [
       "Mental Fatigue Score\n",
       "6.0    429\n",
       "5.9    413\n",
       "6.3    410\n",
       "6.1    406\n",
       "5.8    406\n",
       "      ... \n",
       "0.2     20\n",
       "0.6     20\n",
       "0.4     15\n",
       "0.1     13\n",
       "0.3     11\n",
       "Name: count, Length: 101, dtype: int64"
      ]
     },
     "execution_count": 16,
     "metadata": {},
     "output_type": "execute_result"
    }
   ],
   "source": [
    "fatigue = df['Mental Fatigue Score'].value_counts()\n",
    "fatigue"
   ]
  },
  {
   "cell_type": "code",
   "execution_count": 17,
   "id": "caa904b0",
   "metadata": {},
   "outputs": [
    {
     "data": {
      "text/plain": [
       "Gender\n",
       "Female    9747\n",
       "Male      8843\n",
       "Name: count, dtype: int64"
      ]
     },
     "execution_count": 17,
     "metadata": {},
     "output_type": "execute_result"
    }
   ],
   "source": [
    "gender_count = df['Gender'].value_counts()\n",
    "gender_count"
   ]
  },
  {
   "cell_type": "code",
   "execution_count": 18,
   "id": "9d24cd61",
   "metadata": {},
   "outputs": [
    {
     "data": {
      "image/png": "[encoded data removed]",
      "text/plain": [
       "<Figure size 640x480 with 1 Axes>"
      ]
     },
     "metadata": {},
     "output_type": "display_data"
    }
   ],
   "source": [
    "gender_count.plot(kind='pie',autopct='%1.1f%%',legend =True)\n",
    "plt.title(\"Gender Distribution\")\n",
    "plt.ylabel(\" \")\n",
    "plt.show()"
   ]
  },
  {
   "cell_type": "code",
   "execution_count": 19,
   "id": "471a327c",
   "metadata": {},
   "outputs": [
    {
     "data": {
      "text/plain": [
       "WFH Setup Available\n",
       "Yes    10030\n",
       "No      8560\n",
       "Name: count, dtype: int64"
      ]
     },
     "execution_count": 19,
     "metadata": {},
     "output_type": "execute_result"
    }
   ],
   "source": [
    "WFH_count = df['WFH Setup Available'].value_counts()\n",
    "WFH_count"
   ]
  },
  {
   "cell_type": "code",
   "execution_count": 20,
   "id": "75c33123",
   "metadata": {},
   "outputs": [
    {
     "data": {
      "image/png": "[encoded data removed]",
      "text/plain": [
       "<Figure size 640x480 with 1 Axes>"
      ]
     },
     "metadata": {},
     "output_type": "display_data"
    }
   ],
   "source": [
    "WFH_count.plot(kind='pie',autopct='%1.1f%%',legend=True)\n",
    "plt.title(\"Work from home distribution\")\n",
    "plt.ylabel(' ')\n",
    "plt.show()"
   ]
  },
  {
   "cell_type": "markdown",
   "id": "5596319f",
   "metadata": {},
   "source": [
    "One hot encoding\n",
    "1.Gender\n",
    "2.Company Type\n",
    "3.WFH setup "
   ]
  },
  {
   "cell_type": "code",
   "execution_count": 21,
   "id": "e4a7c94c",
   "metadata": {},
   "outputs": [
    {
     "name": "stdout",
     "output_type": "stream",
     "text": [
      "      Gender_Female Gender_Male Company Type_Product Company Type_Service  \\\n",
      "0               1.0         0.0                  0.0                  1.0   \n",
      "1               0.0         1.0                  0.0                  1.0   \n",
      "2               0.0         1.0                  0.0                  1.0   \n",
      "3               1.0         0.0                  0.0                  1.0   \n",
      "4               0.0         1.0                  1.0                  0.0   \n",
      "...             ...         ...                  ...                  ...   \n",
      "18585           1.0         0.0                  1.0                  0.0   \n",
      "18586           0.0         1.0                  1.0                  0.0   \n",
      "18587           1.0         0.0                  1.0                  0.0   \n",
      "18588           1.0         0.0                  0.0                  1.0   \n",
      "18589           0.0         1.0                  1.0                  0.0   \n",
      "\n",
      "      WFH Setup Available_No WFH Setup Available_Yes  \\\n",
      "0                        1.0                     0.0   \n",
      "1                        0.0                     1.0   \n",
      "2                        0.0                     1.0   \n",
      "3                        1.0                     0.0   \n",
      "4                        0.0                     1.0   \n",
      "...                      ...                     ...   \n",
      "18585                    0.0                     1.0   \n",
      "18586                    1.0                     0.0   \n",
      "18587                    0.0                     1.0   \n",
      "18588                    1.0                     0.0   \n",
      "18589                    1.0                     0.0   \n",
      "\n",
      "                    Employee ID Date of Joining Designation  \\\n",
      "0      fffe32003000360033003200      2008-09-30         2.0   \n",
      "1          fffe3700360033003500      2008-11-30         1.0   \n",
      "2      fffe32003400380032003900      2008-11-03         1.0   \n",
      "3      fffe31003900340031003600      2008-07-24         3.0   \n",
      "4          fffe3300350037003500      2008-11-26         2.0   \n",
      "...                         ...             ...         ...   \n",
      "18585      fffe3300390030003600      2008-12-15         1.0   \n",
      "18586  fffe32003500370033003200      2008-05-27         3.0   \n",
      "18587  fffe33003000350031003800      2008-01-19         3.0   \n",
      "18588  fffe33003300320036003900      2008-01-10         2.0   \n",
      "18589      fffe3400350031003800      2008-01-06         3.0   \n",
      "\n",
      "      Resource Allocation Mental Fatigue Score Burn Rate  \n",
      "0                     3.0                  3.8      0.16  \n",
      "1                     2.0                  5.0      0.36  \n",
      "2                     1.0                  2.6       0.2  \n",
      "3                     7.0                  6.9      0.52  \n",
      "4                     4.0                  3.6      0.29  \n",
      "...                   ...                  ...       ...  \n",
      "18585                 3.0                  6.0      0.48  \n",
      "18586                 7.0                  6.2      0.54  \n",
      "18587                 6.0                  6.7      0.59  \n",
      "18588                 5.0                  5.9      0.52  \n",
      "18589                 6.0                  7.8      0.61  \n",
      "\n",
      "[18590 rows x 12 columns]\n"
     ]
    }
   ],
   "source": [
    "cols = ['Gender','Company Type','WFH Setup Available']\n",
    "encoder = OneHotEncoder(sparse_output=False)\n",
    "preprocessor = ColumnTransformer(\n",
    "    transformers=[('onehot',encoder,cols)\n",
    "                 ],\n",
    "remainder = 'passthrough')\n",
    "\n",
    "df_=preprocessor.fit_transform(df)\n",
    "\n",
    "one_hot_cols = preprocessor.named_transformers_['onehot'].get_feature_names_out(cols)\n",
    "all_cols = one_hot_cols.tolist()+df.drop(columns=cols).columns.tolist()\n",
    "df_new = pd.DataFrame(df_,columns=all_cols)\n",
    "\n",
    "print(df_new)"
   ]
  },
  {
   "cell_type": "code",
   "execution_count": 22,
   "id": "0db3a8b3",
   "metadata": {},
   "outputs": [
    {
     "data": {
      "text/html": [
       "<div>\n",
       "<style scoped>\n",
       "    .dataframe tbody tr th:only-of-type {\n",
       "        vertical-align: middle;\n",
       "    }\n",
       "\n",
       "    .dataframe tbody tr th {\n",
       "        vertical-align: top;\n",
       "    }\n",
       "\n",
       "    .dataframe thead th {\n",
       "        text-align: right;\n",
       "    }\n",
       "</style>\n",
       "<table border=\"1\" class=\"dataframe\">\n",
       "  <thead>\n",
       "    <tr style=\"text-align: right;\">\n",
       "      <th></th>\n",
       "      <th>Gender_Female</th>\n",
       "      <th>Gender_Male</th>\n",
       "      <th>Company Type_Product</th>\n",
       "      <th>Company Type_Service</th>\n",
       "      <th>WFH Setup Available_No</th>\n",
       "      <th>WFH Setup Available_Yes</th>\n",
       "      <th>Employee ID</th>\n",
       "      <th>Date of Joining</th>\n",
       "      <th>Designation</th>\n",
       "      <th>Resource Allocation</th>\n",
       "      <th>Mental Fatigue Score</th>\n",
       "      <th>Burn Rate</th>\n",
       "    </tr>\n",
       "  </thead>\n",
       "  <tbody>\n",
       "    <tr>\n",
       "      <th>0</th>\n",
       "      <td>1.0</td>\n",
       "      <td>0.0</td>\n",
       "      <td>0.0</td>\n",
       "      <td>1.0</td>\n",
       "      <td>1.0</td>\n",
       "      <td>0.0</td>\n",
       "      <td>fffe32003000360033003200</td>\n",
       "      <td>2008-09-30</td>\n",
       "      <td>2.0</td>\n",
       "      <td>3.0</td>\n",
       "      <td>3.8</td>\n",
       "      <td>0.16</td>\n",
       "    </tr>\n",
       "    <tr>\n",
       "      <th>1</th>\n",
       "      <td>0.0</td>\n",
       "      <td>1.0</td>\n",
       "      <td>0.0</td>\n",
       "      <td>1.0</td>\n",
       "      <td>0.0</td>\n",
       "      <td>1.0</td>\n",
       "      <td>fffe3700360033003500</td>\n",
       "      <td>2008-11-30</td>\n",
       "      <td>1.0</td>\n",
       "      <td>2.0</td>\n",
       "      <td>5.0</td>\n",
       "      <td>0.36</td>\n",
       "    </tr>\n",
       "    <tr>\n",
       "      <th>2</th>\n",
       "      <td>0.0</td>\n",
       "      <td>1.0</td>\n",
       "      <td>0.0</td>\n",
       "      <td>1.0</td>\n",
       "      <td>0.0</td>\n",
       "      <td>1.0</td>\n",
       "      <td>fffe32003400380032003900</td>\n",
       "      <td>2008-11-03</td>\n",
       "      <td>1.0</td>\n",
       "      <td>1.0</td>\n",
       "      <td>2.6</td>\n",
       "      <td>0.2</td>\n",
       "    </tr>\n",
       "    <tr>\n",
       "      <th>3</th>\n",
       "      <td>1.0</td>\n",
       "      <td>0.0</td>\n",
       "      <td>0.0</td>\n",
       "      <td>1.0</td>\n",
       "      <td>1.0</td>\n",
       "      <td>0.0</td>\n",
       "      <td>fffe31003900340031003600</td>\n",
       "      <td>2008-07-24</td>\n",
       "      <td>3.0</td>\n",
       "      <td>7.0</td>\n",
       "      <td>6.9</td>\n",
       "      <td>0.52</td>\n",
       "    </tr>\n",
       "    <tr>\n",
       "      <th>4</th>\n",
       "      <td>0.0</td>\n",
       "      <td>1.0</td>\n",
       "      <td>1.0</td>\n",
       "      <td>0.0</td>\n",
       "      <td>0.0</td>\n",
       "      <td>1.0</td>\n",
       "      <td>fffe3300350037003500</td>\n",
       "      <td>2008-11-26</td>\n",
       "      <td>2.0</td>\n",
       "      <td>4.0</td>\n",
       "      <td>3.6</td>\n",
       "      <td>0.29</td>\n",
       "    </tr>\n",
       "  </tbody>\n",
       "</table>\n",
       "</div>"
      ],
      "text/plain": [
       "  Gender_Female Gender_Male Company Type_Product Company Type_Service  \\\n",
       "0           1.0         0.0                  0.0                  1.0   \n",
       "1           0.0         1.0                  0.0                  1.0   \n",
       "2           0.0         1.0                  0.0                  1.0   \n",
       "3           1.0         0.0                  0.0                  1.0   \n",
       "4           0.0         1.0                  1.0                  0.0   \n",
       "\n",
       "  WFH Setup Available_No WFH Setup Available_Yes               Employee ID  \\\n",
       "0                    1.0                     0.0  fffe32003000360033003200   \n",
       "1                    0.0                     1.0      fffe3700360033003500   \n",
       "2                    0.0                     1.0  fffe32003400380032003900   \n",
       "3                    1.0                     0.0  fffe31003900340031003600   \n",
       "4                    0.0                     1.0      fffe3300350037003500   \n",
       "\n",
       "  Date of Joining Designation Resource Allocation Mental Fatigue Score  \\\n",
       "0      2008-09-30         2.0                 3.0                  3.8   \n",
       "1      2008-11-30         1.0                 2.0                  5.0   \n",
       "2      2008-11-03         1.0                 1.0                  2.6   \n",
       "3      2008-07-24         3.0                 7.0                  6.9   \n",
       "4      2008-11-26         2.0                 4.0                  3.6   \n",
       "\n",
       "  Burn Rate  \n",
       "0      0.16  \n",
       "1      0.36  \n",
       "2       0.2  \n",
       "3      0.52  \n",
       "4      0.29  "
      ]
     },
     "execution_count": 22,
     "metadata": {},
     "output_type": "execute_result"
    }
   ],
   "source": [
    "df_new.head()"
   ]
  },
  {
   "cell_type": "code",
   "execution_count": 23,
   "id": "094d08ec",
   "metadata": {},
   "outputs": [],
   "source": [
    "df_new.drop('Date of Joining',axis=1,inplace=True)"
   ]
  },
  {
   "cell_type": "code",
   "execution_count": 24,
   "id": "a52cd4ef",
   "metadata": {},
   "outputs": [
    {
     "data": {
      "text/html": [
       "<div>\n",
       "<style scoped>\n",
       "    .dataframe tbody tr th:only-of-type {\n",
       "        vertical-align: middle;\n",
       "    }\n",
       "\n",
       "    .dataframe tbody tr th {\n",
       "        vertical-align: top;\n",
       "    }\n",
       "\n",
       "    .dataframe thead th {\n",
       "        text-align: right;\n",
       "    }\n",
       "</style>\n",
       "<table border=\"1\" class=\"dataframe\">\n",
       "  <thead>\n",
       "    <tr style=\"text-align: right;\">\n",
       "      <th></th>\n",
       "      <th>Gender_Female</th>\n",
       "      <th>Gender_Male</th>\n",
       "      <th>Company Type_Product</th>\n",
       "      <th>Company Type_Service</th>\n",
       "      <th>WFH Setup Available_No</th>\n",
       "      <th>WFH Setup Available_Yes</th>\n",
       "      <th>Employee ID</th>\n",
       "      <th>Designation</th>\n",
       "      <th>Resource Allocation</th>\n",
       "      <th>Mental Fatigue Score</th>\n",
       "      <th>Burn Rate</th>\n",
       "    </tr>\n",
       "  </thead>\n",
       "  <tbody>\n",
       "    <tr>\n",
       "      <th>10236</th>\n",
       "      <td>1.0</td>\n",
       "      <td>0.0</td>\n",
       "      <td>1.0</td>\n",
       "      <td>0.0</td>\n",
       "      <td>1.0</td>\n",
       "      <td>0.0</td>\n",
       "      <td>fffe33003000350039003800</td>\n",
       "      <td>2.0</td>\n",
       "      <td>4.0</td>\n",
       "      <td>5.4</td>\n",
       "      <td>0.39</td>\n",
       "    </tr>\n",
       "    <tr>\n",
       "      <th>16475</th>\n",
       "      <td>0.0</td>\n",
       "      <td>1.0</td>\n",
       "      <td>0.0</td>\n",
       "      <td>1.0</td>\n",
       "      <td>0.0</td>\n",
       "      <td>1.0</td>\n",
       "      <td>fffe32003700320031003800</td>\n",
       "      <td>2.0</td>\n",
       "      <td>2.0</td>\n",
       "      <td>4.4</td>\n",
       "      <td>0.29</td>\n",
       "    </tr>\n",
       "    <tr>\n",
       "      <th>4935</th>\n",
       "      <td>0.0</td>\n",
       "      <td>1.0</td>\n",
       "      <td>0.0</td>\n",
       "      <td>1.0</td>\n",
       "      <td>1.0</td>\n",
       "      <td>0.0</td>\n",
       "      <td>fffe3600300033003900</td>\n",
       "      <td>2.0</td>\n",
       "      <td>4.0</td>\n",
       "      <td>6.2</td>\n",
       "      <td>0.54</td>\n",
       "    </tr>\n",
       "    <tr>\n",
       "      <th>4420</th>\n",
       "      <td>1.0</td>\n",
       "      <td>0.0</td>\n",
       "      <td>0.0</td>\n",
       "      <td>1.0</td>\n",
       "      <td>1.0</td>\n",
       "      <td>0.0</td>\n",
       "      <td>fffe31003100390035003900</td>\n",
       "      <td>3.0</td>\n",
       "      <td>8.0</td>\n",
       "      <td>8.1</td>\n",
       "      <td>0.82</td>\n",
       "    </tr>\n",
       "    <tr>\n",
       "      <th>9063</th>\n",
       "      <td>0.0</td>\n",
       "      <td>1.0</td>\n",
       "      <td>1.0</td>\n",
       "      <td>0.0</td>\n",
       "      <td>0.0</td>\n",
       "      <td>1.0</td>\n",
       "      <td>fffe3700360030003900</td>\n",
       "      <td>5.0</td>\n",
       "      <td>10.0</td>\n",
       "      <td>9.9</td>\n",
       "      <td>1.0</td>\n",
       "    </tr>\n",
       "  </tbody>\n",
       "</table>\n",
       "</div>"
      ],
      "text/plain": [
       "      Gender_Female Gender_Male Company Type_Product Company Type_Service  \\\n",
       "10236           1.0         0.0                  1.0                  0.0   \n",
       "16475           0.0         1.0                  0.0                  1.0   \n",
       "4935            0.0         1.0                  0.0                  1.0   \n",
       "4420            1.0         0.0                  0.0                  1.0   \n",
       "9063            0.0         1.0                  1.0                  0.0   \n",
       "\n",
       "      WFH Setup Available_No WFH Setup Available_Yes  \\\n",
       "10236                    1.0                     0.0   \n",
       "16475                    0.0                     1.0   \n",
       "4935                     1.0                     0.0   \n",
       "4420                     1.0                     0.0   \n",
       "9063                     0.0                     1.0   \n",
       "\n",
       "                    Employee ID Designation Resource Allocation  \\\n",
       "10236  fffe33003000350039003800         2.0                 4.0   \n",
       "16475  fffe32003700320031003800         2.0                 2.0   \n",
       "4935       fffe3600300033003900         2.0                 4.0   \n",
       "4420   fffe31003100390035003900         3.0                 8.0   \n",
       "9063       fffe3700360030003900         5.0                10.0   \n",
       "\n",
       "      Mental Fatigue Score Burn Rate  \n",
       "10236                  5.4      0.39  \n",
       "16475                  4.4      0.29  \n",
       "4935                   6.2      0.54  \n",
       "4420                   8.1      0.82  \n",
       "9063                   9.9       1.0  "
      ]
     },
     "execution_count": 24,
     "metadata": {},
     "output_type": "execute_result"
    }
   ],
   "source": [
    "df_new.sample(5)"
   ]
  },
  {
   "cell_type": "code",
   "execution_count": 25,
   "id": "bd38c879",
   "metadata": {},
   "outputs": [],
   "source": [
    "df_new.replace([np.inf, -np.inf], np.nan, inplace=True)"
   ]
  },
  {
   "cell_type": "code",
   "execution_count": 26,
   "id": "7209d10d",
   "metadata": {},
   "outputs": [
    {
     "name": "stderr",
     "output_type": "stream",
     "text": [
      "C:\\Users\\KIIT\\anaconda3\\Lib\\site-packages\\seaborn\\_oldcore.py:1119: FutureWarning: use_inf_as_na option is deprecated and will be removed in a future version. Convert inf values to NaN before operating instead.\n",
      "  with pd.option_context('mode.use_inf_as_na', True):\n",
      "C:\\Users\\KIIT\\anaconda3\\Lib\\site-packages\\seaborn\\_oldcore.py:1119: FutureWarning: use_inf_as_na option is deprecated and will be removed in a future version. Convert inf values to NaN before operating instead.\n",
      "  with pd.option_context('mode.use_inf_as_na', True):\n"
     ]
    },
    {
     "data": {
      "image/png": "[encoded data removed]",
      "text/plain": [
       "<Figure size 640x480 with 1 Axes>"
      ]
     },
     "metadata": {},
     "output_type": "display_data"
    }
   ],
   "source": [
    "sn.lineplot(x='Mental Fatigue Score',y='Burn Rate',data=df_new)\n",
    "plt.xlabel('Mental Fatigue Score')\n",
    "plt.ylabel('Burn Rate')\n",
    "plt.title('Mental Fatigue vs Burn Rate')\n",
    "plt.show()"
   ]
  },
  {
   "cell_type": "code",
   "execution_count": 27,
   "id": "5aae0ff1",
   "metadata": {},
   "outputs": [],
   "source": [
    "data = df_new.drop('Employee ID',axis=1)"
   ]
  },
  {
   "cell_type": "code",
   "execution_count": 28,
   "id": "4da5c95c",
   "metadata": {},
   "outputs": [
    {
     "data": {
      "image/png": "[encoded data removed]",
      "text/plain": [
       "<Figure size 640x480 with 2 Axes>"
      ]
     },
     "metadata": {},
     "output_type": "display_data"
    }
   ],
   "source": [
    "sn.heatmap(data.corr(),annot=True,annot_kws={\"fontsize\":6})\n",
    "plt.title('correlation')\n",
    "plt.show()"
   ]
  },
  {
   "cell_type": "markdown",
   "id": "f5a43f9f",
   "metadata": {},
   "source": [
    "Heat map interpretation:-\n",
    "1: Perfect positive correlation\n",
    "if this variable increase the other also increase\n",
    "\n",
    "-1:Perfect negative correlation\n",
    "if this variable increases the other decreases\n",
    "\n",
    "0:No correlation\n",
    "no linear rellationship\n"
   ]
  },
  {
   "cell_type": "markdown",
   "id": "a9a9626c",
   "metadata": {},
   "source": [
    "# Data splitting"
   ]
  },
  {
   "cell_type": "code",
   "execution_count": 29,
   "id": "9f1f83f0",
   "metadata": {},
   "outputs": [],
   "source": [
    "X = df_new.drop('Burn Rate',axis=1)"
   ]
  },
  {
   "cell_type": "code",
   "execution_count": 30,
   "id": "f8340cf3",
   "metadata": {},
   "outputs": [
    {
     "data": {
      "text/html": [
       "<div>\n",
       "<style scoped>\n",
       "    .dataframe tbody tr th:only-of-type {\n",
       "        vertical-align: middle;\n",
       "    }\n",
       "\n",
       "    .dataframe tbody tr th {\n",
       "        vertical-align: top;\n",
       "    }\n",
       "\n",
       "    .dataframe thead th {\n",
       "        text-align: right;\n",
       "    }\n",
       "</style>\n",
       "<table border=\"1\" class=\"dataframe\">\n",
       "  <thead>\n",
       "    <tr style=\"text-align: right;\">\n",
       "      <th></th>\n",
       "      <th>Gender_Female</th>\n",
       "      <th>Gender_Male</th>\n",
       "      <th>Company Type_Product</th>\n",
       "      <th>Company Type_Service</th>\n",
       "      <th>WFH Setup Available_No</th>\n",
       "      <th>WFH Setup Available_Yes</th>\n",
       "      <th>Employee ID</th>\n",
       "      <th>Designation</th>\n",
       "      <th>Resource Allocation</th>\n",
       "      <th>Mental Fatigue Score</th>\n",
       "    </tr>\n",
       "  </thead>\n",
       "  <tbody>\n",
       "    <tr>\n",
       "      <th>0</th>\n",
       "      <td>1.0</td>\n",
       "      <td>0.0</td>\n",
       "      <td>0.0</td>\n",
       "      <td>1.0</td>\n",
       "      <td>1.0</td>\n",
       "      <td>0.0</td>\n",
       "      <td>fffe32003000360033003200</td>\n",
       "      <td>2.0</td>\n",
       "      <td>3.0</td>\n",
       "      <td>3.8</td>\n",
       "    </tr>\n",
       "    <tr>\n",
       "      <th>1</th>\n",
       "      <td>0.0</td>\n",
       "      <td>1.0</td>\n",
       "      <td>0.0</td>\n",
       "      <td>1.0</td>\n",
       "      <td>0.0</td>\n",
       "      <td>1.0</td>\n",
       "      <td>fffe3700360033003500</td>\n",
       "      <td>1.0</td>\n",
       "      <td>2.0</td>\n",
       "      <td>5.0</td>\n",
       "    </tr>\n",
       "    <tr>\n",
       "      <th>2</th>\n",
       "      <td>0.0</td>\n",
       "      <td>1.0</td>\n",
       "      <td>0.0</td>\n",
       "      <td>1.0</td>\n",
       "      <td>0.0</td>\n",
       "      <td>1.0</td>\n",
       "      <td>fffe32003400380032003900</td>\n",
       "      <td>1.0</td>\n",
       "      <td>1.0</td>\n",
       "      <td>2.6</td>\n",
       "    </tr>\n",
       "    <tr>\n",
       "      <th>3</th>\n",
       "      <td>1.0</td>\n",
       "      <td>0.0</td>\n",
       "      <td>0.0</td>\n",
       "      <td>1.0</td>\n",
       "      <td>1.0</td>\n",
       "      <td>0.0</td>\n",
       "      <td>fffe31003900340031003600</td>\n",
       "      <td>3.0</td>\n",
       "      <td>7.0</td>\n",
       "      <td>6.9</td>\n",
       "    </tr>\n",
       "    <tr>\n",
       "      <th>4</th>\n",
       "      <td>0.0</td>\n",
       "      <td>1.0</td>\n",
       "      <td>1.0</td>\n",
       "      <td>0.0</td>\n",
       "      <td>0.0</td>\n",
       "      <td>1.0</td>\n",
       "      <td>fffe3300350037003500</td>\n",
       "      <td>2.0</td>\n",
       "      <td>4.0</td>\n",
       "      <td>3.6</td>\n",
       "    </tr>\n",
       "  </tbody>\n",
       "</table>\n",
       "</div>"
      ],
      "text/plain": [
       "   Gender_Female  Gender_Male  Company Type_Product  Company Type_Service  \\\n",
       "0            1.0          0.0                   0.0                   1.0   \n",
       "1            0.0          1.0                   0.0                   1.0   \n",
       "2            0.0          1.0                   0.0                   1.0   \n",
       "3            1.0          0.0                   0.0                   1.0   \n",
       "4            0.0          1.0                   1.0                   0.0   \n",
       "\n",
       "   WFH Setup Available_No  WFH Setup Available_Yes               Employee ID  \\\n",
       "0                     1.0                      0.0  fffe32003000360033003200   \n",
       "1                     0.0                      1.0      fffe3700360033003500   \n",
       "2                     0.0                      1.0  fffe32003400380032003900   \n",
       "3                     1.0                      0.0  fffe31003900340031003600   \n",
       "4                     0.0                      1.0      fffe3300350037003500   \n",
       "\n",
       "   Designation  Resource Allocation  Mental Fatigue Score  \n",
       "0          2.0                  3.0                   3.8  \n",
       "1          1.0                  2.0                   5.0  \n",
       "2          1.0                  1.0                   2.6  \n",
       "3          3.0                  7.0                   6.9  \n",
       "4          2.0                  4.0                   3.6  "
      ]
     },
     "execution_count": 30,
     "metadata": {},
     "output_type": "execute_result"
    }
   ],
   "source": [
    "X.head()"
   ]
  },
  {
   "cell_type": "code",
   "execution_count": 31,
   "id": "a7fea1f3",
   "metadata": {},
   "outputs": [
    {
     "data": {
      "text/plain": [
       "0    0.16\n",
       "1    0.36\n",
       "2    0.20\n",
       "3    0.52\n",
       "4    0.29\n",
       "Name: Burn Rate, dtype: float64"
      ]
     },
     "execution_count": 31,
     "metadata": {},
     "output_type": "execute_result"
    }
   ],
   "source": [
    "Y = df_new['Burn Rate']\n",
    "Y.head()"
   ]
  },
  {
   "cell_type": "code",
   "execution_count": 32,
   "id": "7a7c46b6",
   "metadata": {},
   "outputs": [],
   "source": [
    "X_train,X_test,Y_train,Y_test = train_test_split(X,Y,test_size=0.3,random_state=42)"
   ]
  },
  {
   "cell_type": "code",
   "execution_count": 33,
   "id": "354c9726",
   "metadata": {},
   "outputs": [
    {
     "name": "stdout",
     "output_type": "stream",
     "text": [
      "(13013, 10) (5577, 10)\n"
     ]
    }
   ],
   "source": [
    "print(X_train.shape,X_test.shape)"
   ]
  },
  {
   "cell_type": "code",
   "execution_count": 34,
   "id": "b4a92aad",
   "metadata": {},
   "outputs": [
    {
     "data": {
      "text/html": [
       "<div>\n",
       "<style scoped>\n",
       "    .dataframe tbody tr th:only-of-type {\n",
       "        vertical-align: middle;\n",
       "    }\n",
       "\n",
       "    .dataframe tbody tr th {\n",
       "        vertical-align: top;\n",
       "    }\n",
       "\n",
       "    .dataframe thead th {\n",
       "        text-align: right;\n",
       "    }\n",
       "</style>\n",
       "<table border=\"1\" class=\"dataframe\">\n",
       "  <thead>\n",
       "    <tr style=\"text-align: right;\">\n",
       "      <th></th>\n",
       "      <th>Gender_Female</th>\n",
       "      <th>Gender_Male</th>\n",
       "      <th>Company Type_Product</th>\n",
       "      <th>Company Type_Service</th>\n",
       "      <th>WFH Setup Available_No</th>\n",
       "      <th>WFH Setup Available_Yes</th>\n",
       "      <th>Employee ID</th>\n",
       "      <th>Designation</th>\n",
       "      <th>Resource Allocation</th>\n",
       "      <th>Mental Fatigue Score</th>\n",
       "    </tr>\n",
       "  </thead>\n",
       "  <tbody>\n",
       "    <tr>\n",
       "      <th>15733</th>\n",
       "      <td>1.0</td>\n",
       "      <td>0.0</td>\n",
       "      <td>0.0</td>\n",
       "      <td>1.0</td>\n",
       "      <td>1.0</td>\n",
       "      <td>0.0</td>\n",
       "      <td>fffe32003400360035003600</td>\n",
       "      <td>3.0</td>\n",
       "      <td>8.0</td>\n",
       "      <td>7.7</td>\n",
       "    </tr>\n",
       "    <tr>\n",
       "      <th>10431</th>\n",
       "      <td>0.0</td>\n",
       "      <td>1.0</td>\n",
       "      <td>0.0</td>\n",
       "      <td>1.0</td>\n",
       "      <td>0.0</td>\n",
       "      <td>1.0</td>\n",
       "      <td>fffe32003200330037003100</td>\n",
       "      <td>4.0</td>\n",
       "      <td>7.0</td>\n",
       "      <td>6.5</td>\n",
       "    </tr>\n",
       "    <tr>\n",
       "      <th>7889</th>\n",
       "      <td>0.0</td>\n",
       "      <td>1.0</td>\n",
       "      <td>0.0</td>\n",
       "      <td>1.0</td>\n",
       "      <td>1.0</td>\n",
       "      <td>0.0</td>\n",
       "      <td>fffe32003300340031003400</td>\n",
       "      <td>2.0</td>\n",
       "      <td>5.0</td>\n",
       "      <td>7.6</td>\n",
       "    </tr>\n",
       "    <tr>\n",
       "      <th>7708</th>\n",
       "      <td>1.0</td>\n",
       "      <td>0.0</td>\n",
       "      <td>0.0</td>\n",
       "      <td>1.0</td>\n",
       "      <td>0.0</td>\n",
       "      <td>1.0</td>\n",
       "      <td>fffe33003000370035003300</td>\n",
       "      <td>2.0</td>\n",
       "      <td>5.0</td>\n",
       "      <td>4.7</td>\n",
       "    </tr>\n",
       "    <tr>\n",
       "      <th>6913</th>\n",
       "      <td>0.0</td>\n",
       "      <td>1.0</td>\n",
       "      <td>0.0</td>\n",
       "      <td>1.0</td>\n",
       "      <td>1.0</td>\n",
       "      <td>0.0</td>\n",
       "      <td>fffe33003200350030003200</td>\n",
       "      <td>2.0</td>\n",
       "      <td>4.0</td>\n",
       "      <td>7.8</td>\n",
       "    </tr>\n",
       "  </tbody>\n",
       "</table>\n",
       "</div>"
      ],
      "text/plain": [
       "       Gender_Female  Gender_Male  Company Type_Product  Company Type_Service  \\\n",
       "15733            1.0          0.0                   0.0                   1.0   \n",
       "10431            0.0          1.0                   0.0                   1.0   \n",
       "7889             0.0          1.0                   0.0                   1.0   \n",
       "7708             1.0          0.0                   0.0                   1.0   \n",
       "6913             0.0          1.0                   0.0                   1.0   \n",
       "\n",
       "       WFH Setup Available_No  WFH Setup Available_Yes  \\\n",
       "15733                     1.0                      0.0   \n",
       "10431                     0.0                      1.0   \n",
       "7889                      1.0                      0.0   \n",
       "7708                      0.0                      1.0   \n",
       "6913                      1.0                      0.0   \n",
       "\n",
       "                    Employee ID  Designation  Resource Allocation  \\\n",
       "15733  fffe32003400360035003600          3.0                  8.0   \n",
       "10431  fffe32003200330037003100          4.0                  7.0   \n",
       "7889   fffe32003300340031003400          2.0                  5.0   \n",
       "7708   fffe33003000370035003300          2.0                  5.0   \n",
       "6913   fffe33003200350030003200          2.0                  4.0   \n",
       "\n",
       "       Mental Fatigue Score  \n",
       "15733                   7.7  \n",
       "10431                   6.5  \n",
       "7889                    7.6  \n",
       "7708                    4.7  \n",
       "6913                    7.8  "
      ]
     },
     "execution_count": 34,
     "metadata": {},
     "output_type": "execute_result"
    }
   ],
   "source": [
    "X_train.head()"
   ]
  },
  {
   "cell_type": "code",
   "execution_count": 35,
   "id": "20ecc290",
   "metadata": {},
   "outputs": [
    {
     "data": {
      "text/plain": [
       "15733    0.73\n",
       "10431    0.56\n",
       "7889     0.58\n",
       "7708     0.38\n",
       "6913     0.58\n",
       "Name: Burn Rate, dtype: float64"
      ]
     },
     "execution_count": 35,
     "metadata": {},
     "output_type": "execute_result"
    }
   ],
   "source": [
    "Y_train.head()"
   ]
  },
  {
   "cell_type": "code",
   "execution_count": 36,
   "id": "95823a13",
   "metadata": {},
   "outputs": [],
   "source": [
    "X_train = X_train.drop('Employee ID',axis=1)"
   ]
  },
  {
   "cell_type": "markdown",
   "id": "98f11533",
   "metadata": {},
   "source": [
    "# Linear Regression"
   ]
  },
  {
   "cell_type": "code",
   "execution_count": 37,
   "id": "f9fae84e",
   "metadata": {},
   "outputs": [],
   "source": [
    "model1 = LinearRegression()"
   ]
  },
  {
   "cell_type": "code",
   "execution_count": 38,
   "id": "0adfb88f",
   "metadata": {},
   "outputs": [],
   "source": [
    "EMP_ID = X_test['Employee ID']\n",
    "X_test = X_test.drop('Employee ID',axis=1)"
   ]
  },
  {
   "cell_type": "code",
   "execution_count": 39,
   "id": "682bb037",
   "metadata": {},
   "outputs": [],
   "source": [
    "model1.fit(X_train,Y_train)\n",
    "y_pred1 = model1.predict(X_test)\n",
    "accuracy1 = model1.score(X_test,Y_test)"
   ]
  },
  {
   "cell_type": "code",
   "execution_count": 40,
   "id": "f8ffd757",
   "metadata": {},
   "outputs": [
    {
     "data": {
      "text/plain": [
       "0.9206064766804504"
      ]
     },
     "execution_count": 40,
     "metadata": {},
     "output_type": "execute_result"
    }
   ],
   "source": [
    "accuracy1"
   ]
  },
  {
   "cell_type": "code",
   "execution_count": 41,
   "id": "01414ad2",
   "metadata": {},
   "outputs": [
    {
     "data": {
      "text/plain": [
       "92.06064766804504"
      ]
     },
     "execution_count": 41,
     "metadata": {},
     "output_type": "execute_result"
    }
   ],
   "source": [
    "r2_score1 = r2_score(Y_test,y_pred1)*100\n",
    "r2_score1"
   ]
  },
  {
   "cell_type": "code",
   "execution_count": 42,
   "id": "1a445326",
   "metadata": {},
   "outputs": [
    {
     "name": "stdout",
     "output_type": "stream",
     "text": [
      "mae of linear regregression 0.04552119438270913\n",
      "mse of linear regregression 0.003071758272220969\n",
      "rmse of linear regregression 0.055423445149331604\n"
     ]
    }
   ],
   "source": [
    "from sklearn.metrics import mean_absolute_error,mean_squared_error \n",
    "mae1 = mean_absolute_error(y_true = Y_test,y_pred = y_pred1)\n",
    "mse1 = mean_squared_error(y_true = Y_test,y_pred = y_pred1)\n",
    "rmse1 = mean_squared_error(y_true=Y_test,y_pred=y_pred1,squared = False)\n",
    "#if squared = True it will return mse1 value\n",
    "\n",
    "print(\"mae of linear regregression\",mae1)\n",
    "print(\"mse of linear regregression\",mse1)\n",
    "print(\"rmse of linear regregression\",rmse1)"
   ]
  },
  {
   "cell_type": "markdown",
   "id": "b7e30cec",
   "metadata": {},
   "source": [
    "# Randon Forest Regressor"
   ]
  },
  {
   "cell_type": "code",
   "execution_count": 43,
   "id": "d556e132",
   "metadata": {},
   "outputs": [],
   "source": [
    "from sklearn.ensemble import RandomForestRegressor\n",
    "model2 = RandomForestRegressor(n_estimators=100,criterion='poisson')\n",
    "model2.fit(X_train,Y_train)\n",
    "y_pred2 = model2.predict(X_test)\n",
    "accuracy2 = model2.score(X_test,Y_test)"
   ]
  },
  {
   "cell_type": "code",
   "execution_count": 44,
   "id": "d4fdcd0c",
   "metadata": {},
   "outputs": [
    {
     "data": {
      "text/plain": [
       "0.9113632623125486"
      ]
     },
     "execution_count": 44,
     "metadata": {},
     "output_type": "execute_result"
    }
   ],
   "source": [
    "accuracy2"
   ]
  },
  {
   "cell_type": "code",
   "execution_count": 45,
   "id": "8cf2af98",
   "metadata": {},
   "outputs": [
    {
     "name": "stdout",
     "output_type": "stream",
     "text": [
      "mae of randon forest regregression 0.04640532349211917\n",
      "mse of randon forest regregression 0.0034293808969561856\n",
      "rmse of randon forest regregression 0.055423445149331604\n"
     ]
    }
   ],
   "source": [
    "mae2 = mean_absolute_error(y_true = Y_test,y_pred = y_pred2)\n",
    "mse2 = mean_squared_error(y_true = Y_test,y_pred = y_pred2)\n",
    "rmse2 = mean_squared_error(y_true=Y_test,y_pred=y_pred1,squared = False)\n",
    "#if squared = True it will return mse1 value\n",
    "\n",
    "print(\"mae of randon forest regregression\",mae2)\n",
    "print(\"mse of randon forest regregression\",mse2)\n",
    "print(\"rmse of randon forest regregression\",rmse2)"
   ]
  },
  {
   "cell_type": "code",
   "execution_count": 46,
   "id": "6b2737fa",
   "metadata": {},
   "outputs": [
    {
     "data": {
      "text/plain": [
       "91.13632623125486"
      ]
     },
     "execution_count": 46,
     "metadata": {},
     "output_type": "execute_result"
    }
   ],
   "source": [
    "r2_score2 = r2_score(Y_test,y_pred2)*100\n",
    "r2_score2"
   ]
  },
  {
   "cell_type": "markdown",
   "id": "49de6514",
   "metadata": {},
   "source": [
    "# xgboost"
   ]
  },
  {
   "cell_type": "code",
   "execution_count": 47,
   "id": "adf99000",
   "metadata": {},
   "outputs": [
    {
     "name": "stdout",
     "output_type": "stream",
     "text": [
      "Requirement already satisfied: xgboost in c:\\users\\kiit\\anaconda3\\lib\\site-packages (2.0.3)\n",
      "Requirement already satisfied: numpy in c:\\users\\kiit\\anaconda3\\lib\\site-packages (from xgboost) (1.24.3)\n",
      "Requirement already satisfied: scipy in c:\\users\\kiit\\anaconda3\\lib\\site-packages (from xgboost) (1.11.1)\n"
     ]
    }
   ],
   "source": [
    "!pip install xgboost"
   ]
  },
  {
   "cell_type": "code",
   "execution_count": 48,
   "id": "8c52231d",
   "metadata": {},
   "outputs": [
    {
     "name": "stdout",
     "output_type": "stream",
     "text": [
      "mae of xgboost 0.04772536343116758\n",
      "mse of xgboost 0.00360641033105502\n",
      "rmse of xgboost 0.060053395666315325\n"
     ]
    }
   ],
   "source": [
    "import xgboost as xgb\n",
    "dtrain = xgb.DMatrix(X_train,label=Y_train)\n",
    "dtest = xgb.DMatrix(X_test,label=Y_test)\n",
    "parameters = {\n",
    "    'objective': 'reg:squarederror',\n",
    "    'eval_metric':'rmse',\n",
    "    'max_depth':8,\n",
    "    'learning_rate':0.7\n",
    "}\n",
    "\n",
    "model3 = xgb.train(parameters,dtrain,num_boost_round=100)\n",
    "y_pred3 = model3.predict(dtest)\n",
    "\n",
    "mae3 = mean_absolute_error(Y_test, y_pred3)\n",
    "mse3 = mean_squared_error(Y_test, y_pred3)\n",
    "rmse3 = np.sqrt(mse3)\n",
    "\n",
    "print(\"mae of xgboost\",mae3)\n",
    "print(\"mse of xgboost\",mse3)\n",
    "print(\"rmse of xgboost\",rmse3)"
   ]
  },
  {
   "cell_type": "code",
   "execution_count": 49,
   "id": "d29d020f",
   "metadata": {},
   "outputs": [
    {
     "data": {
      "text/plain": [
       "90.67877100526339"
      ]
     },
     "execution_count": 49,
     "metadata": {},
     "output_type": "execute_result"
    }
   ],
   "source": [
    "r2_score3 = r2_score(Y_test,y_pred3)*100\n",
    "r2_score3"
   ]
  },
  {
   "cell_type": "markdown",
   "id": "0190ef54",
   "metadata": {},
   "source": [
    "# Decision Tree Regressor"
   ]
  },
  {
   "cell_type": "code",
   "execution_count": 50,
   "id": "e955e630",
   "metadata": {},
   "outputs": [
    {
     "data": {
      "text/plain": [
       "0.8993810443681496"
      ]
     },
     "execution_count": 50,
     "metadata": {},
     "output_type": "execute_result"
    }
   ],
   "source": [
    "from sklearn.tree import DecisionTreeRegressor\n",
    "model4 = DecisionTreeRegressor()\n",
    "model4.fit(X_train,Y_train)\n",
    "y_pred4 = model4.predict(X_test)\n",
    "accuracy4 = model4.score(X_test,Y_test)\n",
    "accuracy4.mean()"
   ]
  },
  {
   "cell_type": "code",
   "execution_count": 51,
   "id": "a89c4a4d",
   "metadata": {},
   "outputs": [
    {
     "data": {
      "text/plain": [
       "89.93810443681495"
      ]
     },
     "execution_count": 51,
     "metadata": {},
     "output_type": "execute_result"
    }
   ],
   "source": [
    "r2_score4 = r2_score(Y_test,y_pred4)*100\n",
    "r2_score4"
   ]
  },
  {
   "cell_type": "markdown",
   "id": "d99c03cd",
   "metadata": {},
   "source": [
    "# KNeighbour Regressor"
   ]
  },
  {
   "cell_type": "code",
   "execution_count": 52,
   "id": "b5485c85",
   "metadata": {},
   "outputs": [
    {
     "data": {
      "text/plain": [
       "0.9200796059663406"
      ]
     },
     "execution_count": 52,
     "metadata": {},
     "output_type": "execute_result"
    }
   ],
   "source": [
    "from sklearn.neighbors import KNeighborsRegressor\n",
    "model5 = KNeighborsRegressor(n_neighbors=100)\n",
    "model5.fit(X_train, Y_train)\n",
    "y_pred5 = model5.predict(X_test)\n",
    "accuracy5 = model5.score(X_test,Y_test)\n",
    "accuracy5"
   ]
  },
  {
   "cell_type": "code",
   "execution_count": 53,
   "id": "451c04f0",
   "metadata": {},
   "outputs": [
    {
     "data": {
      "text/plain": [
       "92.00796059663406"
      ]
     },
     "execution_count": 53,
     "metadata": {},
     "output_type": "execute_result"
    }
   ],
   "source": [
    "r2_score5 = r2_score(Y_test,y_pred5)*100\n",
    "r2_score5"
   ]
  },
  {
   "cell_type": "markdown",
   "id": "d75d4763",
   "metadata": {},
   "source": [
    "# Comaprison among models"
   ]
  },
  {
   "cell_type": "code",
   "execution_count": 54,
   "id": "d14e64fd",
   "metadata": {},
   "outputs": [],
   "source": [
    "from tabulate import tabulate"
   ]
  },
  {
   "cell_type": "code",
   "execution_count": 55,
   "id": "33bc70c7",
   "metadata": {},
   "outputs": [],
   "source": [
    "table = []\n",
    "table.append(['sl.no.','Model','r2_score'])\n",
    "table.append(['1','Linear Regression',r2_score1])\n",
    "table.append(['2','Random Forest Regressor',r2_score2])\n",
    "table.append(['3','xgboost',r2_score3])\n",
    "table.append(['4','Decision Tree Regressor',r2_score4])\n",
    "table.append(['5','KNeighborsRegressor',r2_score5])"
   ]
  },
  {
   "cell_type": "code",
   "execution_count": 56,
   "id": "5c4bf1ae",
   "metadata": {},
   "outputs": [
    {
     "name": "stdout",
     "output_type": "stream",
     "text": [
      "╒══════════╤═════════════════════════╤════════════╕\n",
      "│   sl.no. │ Model                   │   r2_score │\n",
      "╞══════════╪═════════════════════════╪════════════╡\n",
      "│        1 │ Linear Regression       │    92.0606 │\n",
      "├──────────┼─────────────────────────┼────────────┤\n",
      "│        2 │ Random Forest Regressor │    91.1363 │\n",
      "├──────────┼─────────────────────────┼────────────┤\n",
      "│        3 │ xgboost                 │    90.6788 │\n",
      "├──────────┼─────────────────────────┼────────────┤\n",
      "│        4 │ Decision Tree Regressor │    89.9381 │\n",
      "├──────────┼─────────────────────────┼────────────┤\n",
      "│        5 │ KNeighborsRegressor     │    92.008  │\n",
      "╘══════════╧═════════════════════════╧════════════╛\n"
     ]
    }
   ],
   "source": [
    "print(tabulate(table, headers='firstrow', tablefmt='fancy_grid'))"
   ]
  },
  {
   "cell_type": "markdown",
   "id": "2063a83a",
   "metadata": {},
   "source": [
    "# Test data EDA"
   ]
  },
  {
   "cell_type": "code",
   "execution_count": 57,
   "id": "5bbba81c",
   "metadata": {},
   "outputs": [],
   "source": [
    "test = pd.read_csv(\"employee_test.csv\")"
   ]
  },
  {
   "cell_type": "code",
   "execution_count": 58,
   "id": "a43a95d2",
   "metadata": {},
   "outputs": [
    {
     "data": {
      "text/html": [
       "<div>\n",
       "<style scoped>\n",
       "    .dataframe tbody tr th:only-of-type {\n",
       "        vertical-align: middle;\n",
       "    }\n",
       "\n",
       "    .dataframe tbody tr th {\n",
       "        vertical-align: top;\n",
       "    }\n",
       "\n",
       "    .dataframe thead th {\n",
       "        text-align: right;\n",
       "    }\n",
       "</style>\n",
       "<table border=\"1\" class=\"dataframe\">\n",
       "  <thead>\n",
       "    <tr style=\"text-align: right;\">\n",
       "      <th></th>\n",
       "      <th>Employee ID</th>\n",
       "      <th>Date of Joining</th>\n",
       "      <th>Gender</th>\n",
       "      <th>Company Type</th>\n",
       "      <th>WFH Setup Available</th>\n",
       "      <th>Designation</th>\n",
       "      <th>Resource Allocation</th>\n",
       "      <th>Mental Fatigue Score</th>\n",
       "    </tr>\n",
       "  </thead>\n",
       "  <tbody>\n",
       "    <tr>\n",
       "      <th>0</th>\n",
       "      <td>fffe31003300390039003000</td>\n",
       "      <td>2008-12-10</td>\n",
       "      <td>Female</td>\n",
       "      <td>Service</td>\n",
       "      <td>No</td>\n",
       "      <td>2.0</td>\n",
       "      <td>5.0</td>\n",
       "      <td>7.7</td>\n",
       "    </tr>\n",
       "    <tr>\n",
       "      <th>1</th>\n",
       "      <td>fffe31003300310037003800</td>\n",
       "      <td>2008-08-14</td>\n",
       "      <td>Female</td>\n",
       "      <td>Product</td>\n",
       "      <td>Yes</td>\n",
       "      <td>1.0</td>\n",
       "      <td>2.0</td>\n",
       "      <td>5.2</td>\n",
       "    </tr>\n",
       "    <tr>\n",
       "      <th>2</th>\n",
       "      <td>fffe33003400380035003900</td>\n",
       "      <td>2008-11-13</td>\n",
       "      <td>Male</td>\n",
       "      <td>Product</td>\n",
       "      <td>Yes</td>\n",
       "      <td>1.0</td>\n",
       "      <td>3.0</td>\n",
       "      <td>5.9</td>\n",
       "    </tr>\n",
       "    <tr>\n",
       "      <th>3</th>\n",
       "      <td>fffe3100370039003200</td>\n",
       "      <td>2008-02-07</td>\n",
       "      <td>Female</td>\n",
       "      <td>Service</td>\n",
       "      <td>No</td>\n",
       "      <td>3.0</td>\n",
       "      <td>6.0</td>\n",
       "      <td>4.6</td>\n",
       "    </tr>\n",
       "    <tr>\n",
       "      <th>4</th>\n",
       "      <td>fffe32003600390036003700</td>\n",
       "      <td>2008-07-17</td>\n",
       "      <td>Female</td>\n",
       "      <td>Product</td>\n",
       "      <td>No</td>\n",
       "      <td>2.0</td>\n",
       "      <td>5.0</td>\n",
       "      <td>6.4</td>\n",
       "    </tr>\n",
       "  </tbody>\n",
       "</table>\n",
       "</div>"
      ],
      "text/plain": [
       "                Employee ID Date of Joining  Gender Company Type  \\\n",
       "0  fffe31003300390039003000      2008-12-10  Female      Service   \n",
       "1  fffe31003300310037003800      2008-08-14  Female      Product   \n",
       "2  fffe33003400380035003900      2008-11-13    Male      Product   \n",
       "3      fffe3100370039003200      2008-02-07  Female      Service   \n",
       "4  fffe32003600390036003700      2008-07-17  Female      Product   \n",
       "\n",
       "  WFH Setup Available  Designation  Resource Allocation  Mental Fatigue Score  \n",
       "0                  No          2.0                  5.0                   7.7  \n",
       "1                 Yes          1.0                  2.0                   5.2  \n",
       "2                 Yes          1.0                  3.0                   5.9  \n",
       "3                  No          3.0                  6.0                   4.6  \n",
       "4                  No          2.0                  5.0                   6.4  "
      ]
     },
     "execution_count": 58,
     "metadata": {},
     "output_type": "execute_result"
    }
   ],
   "source": [
    "test.head()"
   ]
  },
  {
   "cell_type": "code",
   "execution_count": 59,
   "id": "ae915491",
   "metadata": {},
   "outputs": [
    {
     "data": {
      "text/plain": [
       "array(['fffe31003300390039003000', 'fffe31003300310037003800',\n",
       "       'fffe33003400380035003900', ..., 'fffe31003800340039003000',\n",
       "       'fffe32003600380031003800', 'fffe32003100390037003800'],\n",
       "      dtype=object)"
      ]
     },
     "execution_count": 59,
     "metadata": {},
     "output_type": "execute_result"
    }
   ],
   "source": [
    "EMP_ID = test['Employee ID'].values\n",
    "EMP_ID"
   ]
  },
  {
   "cell_type": "code",
   "execution_count": 60,
   "id": "5d546098",
   "metadata": {},
   "outputs": [
    {
     "data": {
      "text/plain": [
       "(12250,)"
      ]
     },
     "execution_count": 60,
     "metadata": {},
     "output_type": "execute_result"
    }
   ],
   "source": [
    "EMP_ID.shape"
   ]
  },
  {
   "cell_type": "code",
   "execution_count": 61,
   "id": "05c2a796",
   "metadata": {},
   "outputs": [
    {
     "data": {
      "text/plain": [
       "(12250, 8)"
      ]
     },
     "execution_count": 61,
     "metadata": {},
     "output_type": "execute_result"
    }
   ],
   "source": [
    "test.shape"
   ]
  },
  {
   "cell_type": "code",
   "execution_count": 62,
   "id": "9c4038f6",
   "metadata": {},
   "outputs": [
    {
     "data": {
      "text/html": [
       "<div>\n",
       "<style scoped>\n",
       "    .dataframe tbody tr th:only-of-type {\n",
       "        vertical-align: middle;\n",
       "    }\n",
       "\n",
       "    .dataframe tbody tr th {\n",
       "        vertical-align: top;\n",
       "    }\n",
       "\n",
       "    .dataframe thead th {\n",
       "        text-align: right;\n",
       "    }\n",
       "</style>\n",
       "<table border=\"1\" class=\"dataframe\">\n",
       "  <thead>\n",
       "    <tr style=\"text-align: right;\">\n",
       "      <th></th>\n",
       "      <th>Employee ID</th>\n",
       "      <th>Date of Joining</th>\n",
       "      <th>Gender</th>\n",
       "      <th>Company Type</th>\n",
       "      <th>WFH Setup Available</th>\n",
       "      <th>Designation</th>\n",
       "      <th>Resource Allocation</th>\n",
       "      <th>Mental Fatigue Score</th>\n",
       "    </tr>\n",
       "  </thead>\n",
       "  <tbody>\n",
       "    <tr>\n",
       "      <th>0</th>\n",
       "      <td>fffe31003300390039003000</td>\n",
       "      <td>2008-12-10</td>\n",
       "      <td>Female</td>\n",
       "      <td>Service</td>\n",
       "      <td>No</td>\n",
       "      <td>2.0</td>\n",
       "      <td>5.0</td>\n",
       "      <td>7.7</td>\n",
       "    </tr>\n",
       "    <tr>\n",
       "      <th>1</th>\n",
       "      <td>fffe31003300310037003800</td>\n",
       "      <td>2008-08-14</td>\n",
       "      <td>Female</td>\n",
       "      <td>Product</td>\n",
       "      <td>Yes</td>\n",
       "      <td>1.0</td>\n",
       "      <td>2.0</td>\n",
       "      <td>5.2</td>\n",
       "    </tr>\n",
       "    <tr>\n",
       "      <th>2</th>\n",
       "      <td>fffe33003400380035003900</td>\n",
       "      <td>2008-11-13</td>\n",
       "      <td>Male</td>\n",
       "      <td>Product</td>\n",
       "      <td>Yes</td>\n",
       "      <td>1.0</td>\n",
       "      <td>3.0</td>\n",
       "      <td>5.9</td>\n",
       "    </tr>\n",
       "    <tr>\n",
       "      <th>3</th>\n",
       "      <td>fffe3100370039003200</td>\n",
       "      <td>2008-02-07</td>\n",
       "      <td>Female</td>\n",
       "      <td>Service</td>\n",
       "      <td>No</td>\n",
       "      <td>3.0</td>\n",
       "      <td>6.0</td>\n",
       "      <td>4.6</td>\n",
       "    </tr>\n",
       "    <tr>\n",
       "      <th>4</th>\n",
       "      <td>fffe32003600390036003700</td>\n",
       "      <td>2008-07-17</td>\n",
       "      <td>Female</td>\n",
       "      <td>Product</td>\n",
       "      <td>No</td>\n",
       "      <td>2.0</td>\n",
       "      <td>5.0</td>\n",
       "      <td>6.4</td>\n",
       "    </tr>\n",
       "  </tbody>\n",
       "</table>\n",
       "</div>"
      ],
      "text/plain": [
       "                Employee ID Date of Joining  Gender Company Type  \\\n",
       "0  fffe31003300390039003000      2008-12-10  Female      Service   \n",
       "1  fffe31003300310037003800      2008-08-14  Female      Product   \n",
       "2  fffe33003400380035003900      2008-11-13    Male      Product   \n",
       "3      fffe3100370039003200      2008-02-07  Female      Service   \n",
       "4  fffe32003600390036003700      2008-07-17  Female      Product   \n",
       "\n",
       "  WFH Setup Available  Designation  Resource Allocation  Mental Fatigue Score  \n",
       "0                  No          2.0                  5.0                   7.7  \n",
       "1                 Yes          1.0                  2.0                   5.2  \n",
       "2                 Yes          1.0                  3.0                   5.9  \n",
       "3                  No          3.0                  6.0                   4.6  \n",
       "4                  No          2.0                  5.0                   6.4  "
      ]
     },
     "execution_count": 62,
     "metadata": {},
     "output_type": "execute_result"
    }
   ],
   "source": [
    "test.head()"
   ]
  },
  {
   "cell_type": "code",
   "execution_count": 63,
   "id": "cdeb66fc",
   "metadata": {},
   "outputs": [
    {
     "name": "stdout",
     "output_type": "stream",
     "text": [
      "      Gender_Female Gender_Male Company Type_Product Company Type_Service  \\\n",
      "0               1.0         0.0                  0.0                  1.0   \n",
      "1               1.0         0.0                  1.0                  0.0   \n",
      "2               0.0         1.0                  1.0                  0.0   \n",
      "3               1.0         0.0                  0.0                  1.0   \n",
      "4               1.0         0.0                  1.0                  0.0   \n",
      "...             ...         ...                  ...                  ...   \n",
      "12245           1.0         0.0                  0.0                  1.0   \n",
      "12246           1.0         0.0                  1.0                  0.0   \n",
      "12247           0.0         1.0                  0.0                  1.0   \n",
      "12248           0.0         1.0                  0.0                  1.0   \n",
      "12249           1.0         0.0                  1.0                  0.0   \n",
      "\n",
      "      WFH Setup Available_No WFH Setup Available_Yes  \\\n",
      "0                        1.0                     0.0   \n",
      "1                        0.0                     1.0   \n",
      "2                        0.0                     1.0   \n",
      "3                        1.0                     0.0   \n",
      "4                        1.0                     0.0   \n",
      "...                      ...                     ...   \n",
      "12245                    0.0                     1.0   \n",
      "12246                    0.0                     1.0   \n",
      "12247                    1.0                     0.0   \n",
      "12248                    1.0                     0.0   \n",
      "12249                    1.0                     0.0   \n",
      "\n",
      "                    Employee ID Date of Joining Designation  \\\n",
      "0      fffe31003300390039003000      2008-12-10         2.0   \n",
      "1      fffe31003300310037003800      2008-08-14         1.0   \n",
      "2      fffe33003400380035003900      2008-11-13         1.0   \n",
      "3          fffe3100370039003200      2008-02-07         3.0   \n",
      "4      fffe32003600390036003700      2008-07-17         2.0   \n",
      "...                         ...             ...         ...   \n",
      "12245      fffe3900310034003700      2008-10-02         1.0   \n",
      "12246  fffe32003600330034003000      2008-03-31         2.0   \n",
      "12247  fffe31003800340039003000      2008-02-12         4.0   \n",
      "12248  fffe32003600380031003800      2008-02-06         3.0   \n",
      "12249  fffe32003100390037003800      2008-08-05         2.0   \n",
      "\n",
      "      Resource Allocation Mental Fatigue Score  \n",
      "0                     5.0                  7.7  \n",
      "1                     2.0                  5.2  \n",
      "2                     3.0                  5.9  \n",
      "3                     6.0                  4.6  \n",
      "4                     5.0                  6.4  \n",
      "...                   ...                  ...  \n",
      "12245                 2.0                  6.1  \n",
      "12246                 4.0                  5.9  \n",
      "12247                 7.0                  9.6  \n",
      "12248                 6.0                  6.7  \n",
      "12249                 2.0                  2.0  \n",
      "\n",
      "[12250 rows x 11 columns]\n"
     ]
    }
   ],
   "source": [
    "cols = ['Gender','Company Type','WFH Setup Available']\n",
    "encoder_test = OneHotEncoder(sparse_output=False)\n",
    "preprocessor_test = ColumnTransformer(\n",
    "    transformers=[('onehot_test',encoder_test,cols)\n",
    "                 ],\n",
    "remainder = 'passthrough')\n",
    "\n",
    "df_test=preprocessor_test.fit_transform(test)\n",
    "\n",
    "one_hot_cols = preprocessor_test.named_transformers_['onehot_test'].get_feature_names_out(cols)\n",
    "all_cols = one_hot_cols.tolist()+test.drop(columns=cols).columns.tolist()\n",
    "df_new_test = pd.DataFrame(df_test,columns=all_cols)\n",
    "\n",
    "print(df_new_test) "
   ]
  },
  {
   "cell_type": "code",
   "execution_count": 64,
   "id": "708a8ea9",
   "metadata": {},
   "outputs": [
    {
     "data": {
      "text/html": [
       "<div>\n",
       "<style scoped>\n",
       "    .dataframe tbody tr th:only-of-type {\n",
       "        vertical-align: middle;\n",
       "    }\n",
       "\n",
       "    .dataframe tbody tr th {\n",
       "        vertical-align: top;\n",
       "    }\n",
       "\n",
       "    .dataframe thead th {\n",
       "        text-align: right;\n",
       "    }\n",
       "</style>\n",
       "<table border=\"1\" class=\"dataframe\">\n",
       "  <thead>\n",
       "    <tr style=\"text-align: right;\">\n",
       "      <th></th>\n",
       "      <th>Gender_Female</th>\n",
       "      <th>Gender_Male</th>\n",
       "      <th>Company Type_Product</th>\n",
       "      <th>Company Type_Service</th>\n",
       "      <th>WFH Setup Available_No</th>\n",
       "      <th>WFH Setup Available_Yes</th>\n",
       "      <th>Employee ID</th>\n",
       "      <th>Date of Joining</th>\n",
       "      <th>Designation</th>\n",
       "      <th>Resource Allocation</th>\n",
       "      <th>Mental Fatigue Score</th>\n",
       "    </tr>\n",
       "  </thead>\n",
       "  <tbody>\n",
       "    <tr>\n",
       "      <th>0</th>\n",
       "      <td>1.0</td>\n",
       "      <td>0.0</td>\n",
       "      <td>0.0</td>\n",
       "      <td>1.0</td>\n",
       "      <td>1.0</td>\n",
       "      <td>0.0</td>\n",
       "      <td>fffe31003300390039003000</td>\n",
       "      <td>2008-12-10</td>\n",
       "      <td>2.0</td>\n",
       "      <td>5.0</td>\n",
       "      <td>7.7</td>\n",
       "    </tr>\n",
       "    <tr>\n",
       "      <th>1</th>\n",
       "      <td>1.0</td>\n",
       "      <td>0.0</td>\n",
       "      <td>1.0</td>\n",
       "      <td>0.0</td>\n",
       "      <td>0.0</td>\n",
       "      <td>1.0</td>\n",
       "      <td>fffe31003300310037003800</td>\n",
       "      <td>2008-08-14</td>\n",
       "      <td>1.0</td>\n",
       "      <td>2.0</td>\n",
       "      <td>5.2</td>\n",
       "    </tr>\n",
       "    <tr>\n",
       "      <th>2</th>\n",
       "      <td>0.0</td>\n",
       "      <td>1.0</td>\n",
       "      <td>1.0</td>\n",
       "      <td>0.0</td>\n",
       "      <td>0.0</td>\n",
       "      <td>1.0</td>\n",
       "      <td>fffe33003400380035003900</td>\n",
       "      <td>2008-11-13</td>\n",
       "      <td>1.0</td>\n",
       "      <td>3.0</td>\n",
       "      <td>5.9</td>\n",
       "    </tr>\n",
       "    <tr>\n",
       "      <th>3</th>\n",
       "      <td>1.0</td>\n",
       "      <td>0.0</td>\n",
       "      <td>0.0</td>\n",
       "      <td>1.0</td>\n",
       "      <td>1.0</td>\n",
       "      <td>0.0</td>\n",
       "      <td>fffe3100370039003200</td>\n",
       "      <td>2008-02-07</td>\n",
       "      <td>3.0</td>\n",
       "      <td>6.0</td>\n",
       "      <td>4.6</td>\n",
       "    </tr>\n",
       "    <tr>\n",
       "      <th>4</th>\n",
       "      <td>1.0</td>\n",
       "      <td>0.0</td>\n",
       "      <td>1.0</td>\n",
       "      <td>0.0</td>\n",
       "      <td>1.0</td>\n",
       "      <td>0.0</td>\n",
       "      <td>fffe32003600390036003700</td>\n",
       "      <td>2008-07-17</td>\n",
       "      <td>2.0</td>\n",
       "      <td>5.0</td>\n",
       "      <td>6.4</td>\n",
       "    </tr>\n",
       "  </tbody>\n",
       "</table>\n",
       "</div>"
      ],
      "text/plain": [
       "  Gender_Female Gender_Male Company Type_Product Company Type_Service  \\\n",
       "0           1.0         0.0                  0.0                  1.0   \n",
       "1           1.0         0.0                  1.0                  0.0   \n",
       "2           0.0         1.0                  1.0                  0.0   \n",
       "3           1.0         0.0                  0.0                  1.0   \n",
       "4           1.0         0.0                  1.0                  0.0   \n",
       "\n",
       "  WFH Setup Available_No WFH Setup Available_Yes               Employee ID  \\\n",
       "0                    1.0                     0.0  fffe31003300390039003000   \n",
       "1                    0.0                     1.0  fffe31003300310037003800   \n",
       "2                    0.0                     1.0  fffe33003400380035003900   \n",
       "3                    1.0                     0.0      fffe3100370039003200   \n",
       "4                    1.0                     0.0  fffe32003600390036003700   \n",
       "\n",
       "  Date of Joining Designation Resource Allocation Mental Fatigue Score  \n",
       "0      2008-12-10         2.0                 5.0                  7.7  \n",
       "1      2008-08-14         1.0                 2.0                  5.2  \n",
       "2      2008-11-13         1.0                 3.0                  5.9  \n",
       "3      2008-02-07         3.0                 6.0                  4.6  \n",
       "4      2008-07-17         2.0                 5.0                  6.4  "
      ]
     },
     "execution_count": 64,
     "metadata": {},
     "output_type": "execute_result"
    }
   ],
   "source": [
    "df_new_test.head()"
   ]
  },
  {
   "cell_type": "code",
   "execution_count": 65,
   "id": "47932233",
   "metadata": {},
   "outputs": [],
   "source": [
    "df_new_test.drop(['Employee ID','Date of Joining'],axis=1,inplace=True)"
   ]
  },
  {
   "cell_type": "code",
   "execution_count": 66,
   "id": "543f1d35",
   "metadata": {},
   "outputs": [
    {
     "data": {
      "text/html": [
       "<div>\n",
       "<style scoped>\n",
       "    .dataframe tbody tr th:only-of-type {\n",
       "        vertical-align: middle;\n",
       "    }\n",
       "\n",
       "    .dataframe tbody tr th {\n",
       "        vertical-align: top;\n",
       "    }\n",
       "\n",
       "    .dataframe thead th {\n",
       "        text-align: right;\n",
       "    }\n",
       "</style>\n",
       "<table border=\"1\" class=\"dataframe\">\n",
       "  <thead>\n",
       "    <tr style=\"text-align: right;\">\n",
       "      <th></th>\n",
       "      <th>Gender_Female</th>\n",
       "      <th>Gender_Male</th>\n",
       "      <th>Company Type_Product</th>\n",
       "      <th>Company Type_Service</th>\n",
       "      <th>WFH Setup Available_No</th>\n",
       "      <th>WFH Setup Available_Yes</th>\n",
       "      <th>Designation</th>\n",
       "      <th>Resource Allocation</th>\n",
       "      <th>Mental Fatigue Score</th>\n",
       "    </tr>\n",
       "  </thead>\n",
       "  <tbody>\n",
       "    <tr>\n",
       "      <th>0</th>\n",
       "      <td>1.0</td>\n",
       "      <td>0.0</td>\n",
       "      <td>0.0</td>\n",
       "      <td>1.0</td>\n",
       "      <td>1.0</td>\n",
       "      <td>0.0</td>\n",
       "      <td>2.0</td>\n",
       "      <td>5.0</td>\n",
       "      <td>7.7</td>\n",
       "    </tr>\n",
       "    <tr>\n",
       "      <th>1</th>\n",
       "      <td>1.0</td>\n",
       "      <td>0.0</td>\n",
       "      <td>1.0</td>\n",
       "      <td>0.0</td>\n",
       "      <td>0.0</td>\n",
       "      <td>1.0</td>\n",
       "      <td>1.0</td>\n",
       "      <td>2.0</td>\n",
       "      <td>5.2</td>\n",
       "    </tr>\n",
       "    <tr>\n",
       "      <th>2</th>\n",
       "      <td>0.0</td>\n",
       "      <td>1.0</td>\n",
       "      <td>1.0</td>\n",
       "      <td>0.0</td>\n",
       "      <td>0.0</td>\n",
       "      <td>1.0</td>\n",
       "      <td>1.0</td>\n",
       "      <td>3.0</td>\n",
       "      <td>5.9</td>\n",
       "    </tr>\n",
       "    <tr>\n",
       "      <th>3</th>\n",
       "      <td>1.0</td>\n",
       "      <td>0.0</td>\n",
       "      <td>0.0</td>\n",
       "      <td>1.0</td>\n",
       "      <td>1.0</td>\n",
       "      <td>0.0</td>\n",
       "      <td>3.0</td>\n",
       "      <td>6.0</td>\n",
       "      <td>4.6</td>\n",
       "    </tr>\n",
       "    <tr>\n",
       "      <th>4</th>\n",
       "      <td>1.0</td>\n",
       "      <td>0.0</td>\n",
       "      <td>1.0</td>\n",
       "      <td>0.0</td>\n",
       "      <td>1.0</td>\n",
       "      <td>0.0</td>\n",
       "      <td>2.0</td>\n",
       "      <td>5.0</td>\n",
       "      <td>6.4</td>\n",
       "    </tr>\n",
       "  </tbody>\n",
       "</table>\n",
       "</div>"
      ],
      "text/plain": [
       "  Gender_Female Gender_Male Company Type_Product Company Type_Service  \\\n",
       "0           1.0         0.0                  0.0                  1.0   \n",
       "1           1.0         0.0                  1.0                  0.0   \n",
       "2           0.0         1.0                  1.0                  0.0   \n",
       "3           1.0         0.0                  0.0                  1.0   \n",
       "4           1.0         0.0                  1.0                  0.0   \n",
       "\n",
       "  WFH Setup Available_No WFH Setup Available_Yes Designation  \\\n",
       "0                    1.0                     0.0         2.0   \n",
       "1                    0.0                     1.0         1.0   \n",
       "2                    0.0                     1.0         1.0   \n",
       "3                    1.0                     0.0         3.0   \n",
       "4                    1.0                     0.0         2.0   \n",
       "\n",
       "  Resource Allocation Mental Fatigue Score  \n",
       "0                 5.0                  7.7  \n",
       "1                 2.0                  5.2  \n",
       "2                 3.0                  5.9  \n",
       "3                 6.0                  4.6  \n",
       "4                 5.0                  6.4  "
      ]
     },
     "execution_count": 66,
     "metadata": {},
     "output_type": "execute_result"
    }
   ],
   "source": [
    "df_new_test.head()"
   ]
  },
  {
   "cell_type": "code",
   "execution_count": 67,
   "id": "7ccfd741",
   "metadata": {},
   "outputs": [
    {
     "data": {
      "text/plain": [
       "(12250, 9)"
      ]
     },
     "execution_count": 67,
     "metadata": {},
     "output_type": "execute_result"
    }
   ],
   "source": [
    "df_new_test.shape"
   ]
  },
  {
   "cell_type": "code",
   "execution_count": 68,
   "id": "2c786280",
   "metadata": {},
   "outputs": [],
   "source": [
    "test_pred = model1.predict(df_new_test)"
   ]
  },
  {
   "cell_type": "code",
   "execution_count": 69,
   "id": "99097dda",
   "metadata": {},
   "outputs": [
    {
     "data": {
      "text/plain": [
       "array([0.61797175, 0.34017483, 0.4248064 , ..., 0.81091938, 0.57228645,\n",
       "       0.11057894])"
      ]
     },
     "execution_count": 69,
     "metadata": {},
     "output_type": "execute_result"
    }
   ],
   "source": [
    "test_pred"
   ]
  },
  {
   "cell_type": "markdown",
   "id": "98cb596c",
   "metadata": {},
   "source": [
    "# Creating output dataframe"
   ]
  },
  {
   "cell_type": "code",
   "execution_count": 70,
   "id": "e83d07ac",
   "metadata": {},
   "outputs": [],
   "source": [
    "output = pd.DataFrame(list(zip(EMP_ID,test_pred)),columns =['Employee ID','Burn Rate'])"
   ]
  },
  {
   "cell_type": "code",
   "execution_count": 71,
   "id": "c69dfc68",
   "metadata": {},
   "outputs": [
    {
     "data": {
      "text/html": [
       "<div>\n",
       "<style scoped>\n",
       "    .dataframe tbody tr th:only-of-type {\n",
       "        vertical-align: middle;\n",
       "    }\n",
       "\n",
       "    .dataframe tbody tr th {\n",
       "        vertical-align: top;\n",
       "    }\n",
       "\n",
       "    .dataframe thead th {\n",
       "        text-align: right;\n",
       "    }\n",
       "</style>\n",
       "<table border=\"1\" class=\"dataframe\">\n",
       "  <thead>\n",
       "    <tr style=\"text-align: right;\">\n",
       "      <th></th>\n",
       "      <th>Employee ID</th>\n",
       "      <th>Burn Rate</th>\n",
       "    </tr>\n",
       "  </thead>\n",
       "  <tbody>\n",
       "    <tr>\n",
       "      <th>0</th>\n",
       "      <td>fffe31003300390039003000</td>\n",
       "      <td>0.617972</td>\n",
       "    </tr>\n",
       "    <tr>\n",
       "      <th>1</th>\n",
       "      <td>fffe31003300310037003800</td>\n",
       "      <td>0.340175</td>\n",
       "    </tr>\n",
       "    <tr>\n",
       "      <th>2</th>\n",
       "      <td>fffe33003400380035003900</td>\n",
       "      <td>0.424806</td>\n",
       "    </tr>\n",
       "    <tr>\n",
       "      <th>3</th>\n",
       "      <td>fffe3100370039003200</td>\n",
       "      <td>0.412280</td>\n",
       "    </tr>\n",
       "    <tr>\n",
       "      <th>4</th>\n",
       "      <td>fffe32003600390036003700</td>\n",
       "      <td>0.521320</td>\n",
       "    </tr>\n",
       "    <tr>\n",
       "      <th>...</th>\n",
       "      <td>...</td>\n",
       "      <td>...</td>\n",
       "    </tr>\n",
       "    <tr>\n",
       "      <th>12245</th>\n",
       "      <td>fffe3900310034003700</td>\n",
       "      <td>0.407205</td>\n",
       "    </tr>\n",
       "    <tr>\n",
       "      <th>12246</th>\n",
       "      <td>fffe32003600330034003000</td>\n",
       "      <td>0.444190</td>\n",
       "    </tr>\n",
       "    <tr>\n",
       "      <th>12247</th>\n",
       "      <td>fffe31003800340039003000</td>\n",
       "      <td>0.810919</td>\n",
       "    </tr>\n",
       "    <tr>\n",
       "      <th>12248</th>\n",
       "      <td>fffe32003600380031003800</td>\n",
       "      <td>0.572286</td>\n",
       "    </tr>\n",
       "    <tr>\n",
       "      <th>12249</th>\n",
       "      <td>fffe32003100390037003800</td>\n",
       "      <td>0.110579</td>\n",
       "    </tr>\n",
       "  </tbody>\n",
       "</table>\n",
       "<p>12250 rows × 2 columns</p>\n",
       "</div>"
      ],
      "text/plain": [
       "                    Employee ID  Burn Rate\n",
       "0      fffe31003300390039003000   0.617972\n",
       "1      fffe31003300310037003800   0.340175\n",
       "2      fffe33003400380035003900   0.424806\n",
       "3          fffe3100370039003200   0.412280\n",
       "4      fffe32003600390036003700   0.521320\n",
       "...                         ...        ...\n",
       "12245      fffe3900310034003700   0.407205\n",
       "12246  fffe32003600330034003000   0.444190\n",
       "12247  fffe31003800340039003000   0.810919\n",
       "12248  fffe32003600380031003800   0.572286\n",
       "12249  fffe32003100390037003800   0.110579\n",
       "\n",
       "[12250 rows x 2 columns]"
      ]
     },
     "execution_count": 71,
     "metadata": {},
     "output_type": "execute_result"
    }
   ],
   "source": [
    "output"
   ]
  },
  {
   "cell_type": "code",
   "execution_count": null,
   "id": "0bd42bc0",
   "metadata": {},
   "outputs": [],
   "source": [
    "output.to_csv(r'C:\\Users\\KIIT\\Downloads\\output.csv',index=False)"
   ]
  },
  {
   "cell_type": "code",
   "execution_count": null,
   "id": "9eea70ae",
   "metadata": {},
   "outputs": [],
   "source": []
  }
 ],
 "metadata": {
  "kernelspec": {
   "display_name": "Python 3 (ipykernel)",
   "language": "python",
   "name": "python3"
  },
  "language_info": {
   "codemirror_mode": {
    "name": "ipython",
    "version": 3
   },
   "file_extension": ".py",
   "mimetype": "text/x-python",
   "name": "python",
   "nbconvert_exporter": "python",
   "pygments_lexer": "ipython3",
   "version": "3.11.5"
  }
 },
 "nbformat": 4,
 "nbformat_minor": 5
}
